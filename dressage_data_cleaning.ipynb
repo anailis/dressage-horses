{
 "cells": [
  {
   "cell_type": "markdown",
   "metadata": {},
   "source": [
    "# Data Cleaning"
   ]
  },
  {
   "cell_type": "markdown",
   "metadata": {},
   "source": [
    "## Aims & Description of the Data"
   ]
  },
  {
   "cell_type": "markdown",
   "metadata": {},
   "source": [
    "Data were scraped from the web into a **SQLite database** using the **Python scrapy** library. To do this, I chose the top 100 dressage horses, traced them back 2 generations, and gathered data for all descendants of the great-grandparents. The database has two tables: one stores show results, and the other stores pedigree information. The aim of the data cleaning process was to:\n",
    "- Assess the quality of the scraped data (missingness, consistency, duplication)\n",
    "- Put both tables in a [**tidy** format](https://cran.r-project.org/web/packages/tidyr/vignettes/tidy-data.html)\n",
    "- **Impute** missing values, where applicable \n",
    "- Summarise the show data per horse, rider, and horse-rider combination\n",
    "- Give parents without rows their own rows in the pedigree table"
   ]
  },
  {
   "cell_type": "code",
   "execution_count": 151,
   "metadata": {},
   "outputs": [],
   "source": [
    "library(RSQLite, quietly = T)\n",
    "library(tidyverse, quietly = T)\n",
    "library(lubridate, quietly = T)\n",
    "\n",
    "conn <- dbConnect(RSQLite::SQLite(), \"dressage.db\")\n",
    "\n",
    "ped <- dbGetQuery(conn, 'SELECT * FROM pedigree')\n",
    "shows <- dbGetQuery(conn, 'SELECT * FROM show_results')"
   ]
  },
  {
   "cell_type": "markdown",
   "metadata": {},
   "source": [
    "The pedigree table contains 1081 rows and 8 columns. Each row represents a horse, who is identified either by the column `horse_id` or the column `horse_ueln`. Some individuals will only be described in the sire/dam columns (`sire_id`, `sire_ueln`, `dam_id`, `dam_ueln`) - they should be given their own rows, with the parents set to NA. NA should be consistently used to represent missing values. The table also contains date of birth (`dob`) and sex (`sex`)."
   ]
  },
  {
   "cell_type": "code",
   "execution_count": 152,
   "metadata": {},
   "outputs": [
    {
     "data": {
      "text/html": [
       "<table>\n",
       "<thead><tr><th scope=col>horse_id</th><th scope=col>dam_ueln</th><th scope=col>sire_ueln</th><th scope=col>dam_id</th><th scope=col>sire_id</th><th scope=col>dob</th><th scope=col>sex</th><th scope=col>horse_ueln</th></tr></thead>\n",
       "<tbody>\n",
       "\t<tr><td>105AH62        </td><td>276409090078202</td><td>276409090081903</td><td>NA             </td><td>NA             </td><td>23/04/2007     </td><td>Female         </td><td>276409090042107</td></tr>\n",
       "\t<tr><td>102ZI90        </td><td>276433330566801</td><td>276333332243993</td><td>NA             </td><td>NA             </td><td>07/07/2005     </td><td>Female         </td><td>276433330826405</td></tr>\n",
       "\t<tr><td>103HX90        </td><td>276431314606900</td><td>276333330471993</td><td>NA             </td><td>NA             </td><td>14/02/2006     </td><td>Male           </td><td>276431310648406</td></tr>\n",
       "\t<tr><td>103CM31        </td><td>276341410477388</td><td>276343430476299</td><td>NA             </td><td>NA             </td><td>12/02/2004     </td><td>Female         </td><td>276441411396304</td></tr>\n",
       "\t<tr><td>DEN40739       </td><td>276331310958893</td><td>276309090304085</td><td>NA             </td><td>NA             </td><td>24/04/2003     </td><td>Male           </td><td>208333200301452</td></tr>\n",
       "\t<tr><td>105BZ34        </td><td>276373732023391</td><td>276341410479692</td><td>NA             </td><td>NA             </td><td>17/05/2009     </td><td>Female         </td><td>276431310562909</td></tr>\n",
       "</tbody>\n",
       "</table>\n"
      ],
      "text/latex": [
       "\\begin{tabular}{r|llllllll}\n",
       " horse\\_id & dam\\_ueln & sire\\_ueln & dam\\_id & sire\\_id & dob & sex & horse\\_ueln\\\\\n",
       "\\hline\n",
       "\t 105AH62         & 276409090078202 & 276409090081903 & NA              & NA              & 23/04/2007      & Female          & 276409090042107\\\\\n",
       "\t 102ZI90         & 276433330566801 & 276333332243993 & NA              & NA              & 07/07/2005      & Female          & 276433330826405\\\\\n",
       "\t 103HX90         & 276431314606900 & 276333330471993 & NA              & NA              & 14/02/2006      & Male            & 276431310648406\\\\\n",
       "\t 103CM31         & 276341410477388 & 276343430476299 & NA              & NA              & 12/02/2004      & Female          & 276441411396304\\\\\n",
       "\t DEN40739        & 276331310958893 & 276309090304085 & NA              & NA              & 24/04/2003      & Male            & 208333200301452\\\\\n",
       "\t 105BZ34         & 276373732023391 & 276341410479692 & NA              & NA              & 17/05/2009      & Female          & 276431310562909\\\\\n",
       "\\end{tabular}\n"
      ],
      "text/markdown": [
       "\n",
       "| horse_id | dam_ueln | sire_ueln | dam_id | sire_id | dob | sex | horse_ueln |\n",
       "|---|---|---|---|---|---|---|---|\n",
       "| 105AH62         | 276409090078202 | 276409090081903 | NA              | NA              | 23/04/2007      | Female          | 276409090042107 |\n",
       "| 102ZI90         | 276433330566801 | 276333332243993 | NA              | NA              | 07/07/2005      | Female          | 276433330826405 |\n",
       "| 103HX90         | 276431314606900 | 276333330471993 | NA              | NA              | 14/02/2006      | Male            | 276431310648406 |\n",
       "| 103CM31         | 276341410477388 | 276343430476299 | NA              | NA              | 12/02/2004      | Female          | 276441411396304 |\n",
       "| DEN40739        | 276331310958893 | 276309090304085 | NA              | NA              | 24/04/2003      | Male            | 208333200301452 |\n",
       "| 105BZ34         | 276373732023391 | 276341410479692 | NA              | NA              | 17/05/2009      | Female          | 276431310562909 |\n",
       "\n"
      ],
      "text/plain": [
       "  horse_id dam_ueln        sire_ueln       dam_id sire_id dob        sex   \n",
       "1 105AH62  276409090078202 276409090081903 NA     NA      23/04/2007 Female\n",
       "2 102ZI90  276433330566801 276333332243993 NA     NA      07/07/2005 Female\n",
       "3 103HX90  276431314606900 276333330471993 NA     NA      14/02/2006 Male  \n",
       "4 103CM31  276341410477388 276343430476299 NA     NA      12/02/2004 Female\n",
       "5 DEN40739 276331310958893 276309090304085 NA     NA      24/04/2003 Male  \n",
       "6 105BZ34  276373732023391 276341410479692 NA     NA      17/05/2009 Female\n",
       "  horse_ueln     \n",
       "1 276409090042107\n",
       "2 276433330826405\n",
       "3 276431310648406\n",
       "4 276441411396304\n",
       "5 208333200301452\n",
       "6 276431310562909"
      ]
     },
     "metadata": {},
     "output_type": "display_data"
    },
    {
     "data": {
      "text/html": [
       "<ol class=list-inline>\n",
       "\t<li>1081</li>\n",
       "\t<li>8</li>\n",
       "</ol>\n"
      ],
      "text/latex": [
       "\\begin{enumerate*}\n",
       "\\item 1081\n",
       "\\item 8\n",
       "\\end{enumerate*}\n"
      ],
      "text/markdown": [
       "1. 1081\n",
       "2. 8\n",
       "\n",
       "\n"
      ],
      "text/plain": [
       "[1] 1081    8"
      ]
     },
     "metadata": {},
     "output_type": "display_data"
    },
    {
     "name": "stdout",
     "output_type": "stream",
     "text": [
      "'data.frame':\t1081 obs. of  8 variables:\n",
      " $ horse_id  : chr  \"105AH62\" \"102ZI90\" \"103HX90\" \"103CM31\" ...\n",
      " $ dam_ueln  : chr  \"276409090078202\" \"276433330566801\" \"276431314606900\" \"276341410477388\" ...\n",
      " $ sire_ueln : chr  \"276409090081903\" \"276333332243993\" \"276333330471993\" \"276343430476299\" ...\n",
      " $ dam_id    : chr  NA NA NA NA ...\n",
      " $ sire_id   : chr  NA NA NA NA ...\n",
      " $ dob       : chr  \"23/04/2007\" \"07/07/2005\" \"14/02/2006\" \"12/02/2004\" ...\n",
      " $ sex       : chr  \"Female\" \"Female\" \"Male\" \"Female\" ...\n",
      " $ horse_ueln: chr  \"276409090042107\" \"276433330826405\" \"276431310648406\" \"276441411396304\" ...\n"
     ]
    },
    {
     "data": {
      "text/plain": [
       "   horse_id           dam_ueln          sire_ueln            dam_id         \n",
       " Length:1081        Length:1081        Length:1081        Length:1081       \n",
       " Class :character   Class :character   Class :character   Class :character  \n",
       " Mode  :character   Mode  :character   Mode  :character   Mode  :character  \n",
       "   sire_id              dob                sex             horse_ueln       \n",
       " Length:1081        Length:1081        Length:1081        Length:1081       \n",
       " Class :character   Class :character   Class :character   Class :character  \n",
       " Mode  :character   Mode  :character   Mode  :character   Mode  :character  "
      ]
     },
     "metadata": {},
     "output_type": "display_data"
    }
   ],
   "source": [
    "head(ped)\n",
    "dim(ped)\n",
    "str(ped)\n",
    "summary(ped)"
   ]
  },
  {
   "cell_type": "markdown",
   "metadata": {},
   "source": [
    "The shows table has 18033 rows and 9 columns. Each row represents a single show results for a single horse/rider combination. In this table, horses are described only by `horse_id`. Riders are identified by their own unique `rider_id`. This table also includes `dob` and `sex` as in the pedigree table; the country code of the country where the show took place (`location`); the level of event (`event_type`); the event name (`comp_title`); the position of the combination (`position`) and their score (`score`). "
   ]
  },
  {
   "cell_type": "code",
   "execution_count": 153,
   "metadata": {},
   "outputs": [
    {
     "data": {
      "text/html": [
       "<table>\n",
       "<thead><tr><th scope=col>location</th><th scope=col>event_type</th><th scope=col>comp_title</th><th scope=col>horse_id</th><th scope=col>dob</th><th scope=col>sex</th><th scope=col>rider_id</th><th scope=col>position</th><th scope=col>score</th></tr></thead>\n",
       "<tbody>\n",
       "\t<tr><td>NED                                  </td><td>CDI-W                                </td><td>GP FS - Grand Prix Freestyle to Music</td><td>102ZI90                              </td><td>15 - 07/07/2005                      </td><td>Mare                                 </td><td>10011389                             </td><td>1                                    </td><td>90.280                               </td></tr>\n",
       "\t<tr><td>NED                                  </td><td>CDI-W                                </td><td>GP - Grand Prix                      </td><td>102ZI90                              </td><td>15 - 07/07/2005                      </td><td>Mare                                 </td><td>10011389                             </td><td>1                                    </td><td>83.565                               </td></tr>\n",
       "\t<tr><td>SWE                                  </td><td>CDI5*                                </td><td>GP FS - Grand Prix Freestyle to Music</td><td>102ZI90                              </td><td>15 - 07/07/2005                      </td><td>Mare                                 </td><td>10011389                             </td><td>2                                    </td><td>89.310                               </td></tr>\n",
       "\t<tr><td>SWE                                  </td><td>CDI5*                                </td><td>GP - Grand Prix                      </td><td>102ZI90                              </td><td>15 - 07/07/2005                      </td><td>Mare                                 </td><td>10011389                             </td><td>1                                    </td><td>83.652                               </td></tr>\n",
       "\t<tr><td>GER                                  </td><td>CDI-W                                </td><td>GP FS - Grand Prix Freestyle to Music</td><td>102ZI90                              </td><td>15 - 07/07/2005                      </td><td>Mare                                 </td><td>10011389                             </td><td>2                                    </td><td>87.240                               </td></tr>\n",
       "\t<tr><td>GER                                  </td><td>CDI-W                                </td><td>GP - Grand Prix                      </td><td>102ZI90                              </td><td>15 - 07/07/2005                      </td><td>Mare                                 </td><td>10011389                             </td><td>1                                    </td><td>81.565                               </td></tr>\n",
       "</tbody>\n",
       "</table>\n"
      ],
      "text/latex": [
       "\\begin{tabular}{r|lllllllll}\n",
       " location & event\\_type & comp\\_title & horse\\_id & dob & sex & rider\\_id & position & score\\\\\n",
       "\\hline\n",
       "\t NED                                   & CDI-W                                 & GP FS - Grand Prix Freestyle to Music & 102ZI90                               & 15 - 07/07/2005                       & Mare                                  & 10011389                              & 1                                     & 90.280                               \\\\\n",
       "\t NED                                   & CDI-W                                 & GP - Grand Prix                       & 102ZI90                               & 15 - 07/07/2005                       & Mare                                  & 10011389                              & 1                                     & 83.565                               \\\\\n",
       "\t SWE                                   & CDI5*                                 & GP FS - Grand Prix Freestyle to Music & 102ZI90                               & 15 - 07/07/2005                       & Mare                                  & 10011389                              & 2                                     & 89.310                               \\\\\n",
       "\t SWE                                   & CDI5*                                 & GP - Grand Prix                       & 102ZI90                               & 15 - 07/07/2005                       & Mare                                  & 10011389                              & 1                                     & 83.652                               \\\\\n",
       "\t GER                                   & CDI-W                                 & GP FS - Grand Prix Freestyle to Music & 102ZI90                               & 15 - 07/07/2005                       & Mare                                  & 10011389                              & 2                                     & 87.240                               \\\\\n",
       "\t GER                                   & CDI-W                                 & GP - Grand Prix                       & 102ZI90                               & 15 - 07/07/2005                       & Mare                                  & 10011389                              & 1                                     & 81.565                               \\\\\n",
       "\\end{tabular}\n"
      ],
      "text/markdown": [
       "\n",
       "| location | event_type | comp_title | horse_id | dob | sex | rider_id | position | score |\n",
       "|---|---|---|---|---|---|---|---|---|\n",
       "| NED                                   | CDI-W                                 | GP FS - Grand Prix Freestyle to Music | 102ZI90                               | 15 - 07/07/2005                       | Mare                                  | 10011389                              | 1                                     | 90.280                                |\n",
       "| NED                                   | CDI-W                                 | GP - Grand Prix                       | 102ZI90                               | 15 - 07/07/2005                       | Mare                                  | 10011389                              | 1                                     | 83.565                                |\n",
       "| SWE                                   | CDI5*                                 | GP FS - Grand Prix Freestyle to Music | 102ZI90                               | 15 - 07/07/2005                       | Mare                                  | 10011389                              | 2                                     | 89.310                                |\n",
       "| SWE                                   | CDI5*                                 | GP - Grand Prix                       | 102ZI90                               | 15 - 07/07/2005                       | Mare                                  | 10011389                              | 1                                     | 83.652                                |\n",
       "| GER                                   | CDI-W                                 | GP FS - Grand Prix Freestyle to Music | 102ZI90                               | 15 - 07/07/2005                       | Mare                                  | 10011389                              | 2                                     | 87.240                                |\n",
       "| GER                                   | CDI-W                                 | GP - Grand Prix                       | 102ZI90                               | 15 - 07/07/2005                       | Mare                                  | 10011389                              | 1                                     | 81.565                                |\n",
       "\n"
      ],
      "text/plain": [
       "  location event_type comp_title                            horse_id\n",
       "1 NED      CDI-W      GP FS - Grand Prix Freestyle to Music 102ZI90 \n",
       "2 NED      CDI-W      GP - Grand Prix                       102ZI90 \n",
       "3 SWE      CDI5*      GP FS - Grand Prix Freestyle to Music 102ZI90 \n",
       "4 SWE      CDI5*      GP - Grand Prix                       102ZI90 \n",
       "5 GER      CDI-W      GP FS - Grand Prix Freestyle to Music 102ZI90 \n",
       "6 GER      CDI-W      GP - Grand Prix                       102ZI90 \n",
       "  dob             sex  rider_id position score \n",
       "1 15 - 07/07/2005 Mare 10011389 1        90.280\n",
       "2 15 - 07/07/2005 Mare 10011389 1        83.565\n",
       "3 15 - 07/07/2005 Mare 10011389 2        89.310\n",
       "4 15 - 07/07/2005 Mare 10011389 1        83.652\n",
       "5 15 - 07/07/2005 Mare 10011389 2        87.240\n",
       "6 15 - 07/07/2005 Mare 10011389 1        81.565"
      ]
     },
     "metadata": {},
     "output_type": "display_data"
    },
    {
     "data": {
      "text/html": [
       "<ol class=list-inline>\n",
       "\t<li>18033</li>\n",
       "\t<li>9</li>\n",
       "</ol>\n"
      ],
      "text/latex": [
       "\\begin{enumerate*}\n",
       "\\item 18033\n",
       "\\item 9\n",
       "\\end{enumerate*}\n"
      ],
      "text/markdown": [
       "1. 18033\n",
       "2. 9\n",
       "\n",
       "\n"
      ],
      "text/plain": [
       "[1] 18033     9"
      ]
     },
     "metadata": {},
     "output_type": "display_data"
    },
    {
     "name": "stdout",
     "output_type": "stream",
     "text": [
      "'data.frame':\t18033 obs. of  9 variables:\n",
      " $ location  : chr  \"NED\" \"NED\" \"SWE\" \"SWE\" ...\n",
      " $ event_type: chr  \"CDI-W\" \"CDI-W\" \"CDI5*\" \"CDI5*\" ...\n",
      " $ comp_title: chr  \"GP FS - Grand Prix Freestyle to Music\" \"GP - Grand Prix\" \"GP FS - Grand Prix Freestyle to Music\" \"GP - Grand Prix\" ...\n",
      " $ horse_id  : chr  \"102ZI90\" \"102ZI90\" \"102ZI90\" \"102ZI90\" ...\n",
      " $ dob       : chr  \"15 - 07/07/2005\" \"15 - 07/07/2005\" \"15 - 07/07/2005\" \"15 - 07/07/2005\" ...\n",
      " $ sex       : chr  \"Mare\" \"Mare\" \"Mare\" \"Mare\" ...\n",
      " $ rider_id  : chr  \"10011389\" \"10011389\" \"10011389\" \"10011389\" ...\n",
      " $ position  : chr  \"1\" \"1\" \"2\" \"1\" ...\n",
      " $ score     : chr  \"90.280\" \"83.565\" \"89.310\" \"83.652\" ...\n"
     ]
    },
    {
     "data": {
      "text/plain": [
       "   location          event_type         comp_title          horse_id        \n",
       " Length:18033       Length:18033       Length:18033       Length:18033      \n",
       " Class :character   Class :character   Class :character   Class :character  \n",
       " Mode  :character   Mode  :character   Mode  :character   Mode  :character  \n",
       "     dob                sex              rider_id           position        \n",
       " Length:18033       Length:18033       Length:18033       Length:18033      \n",
       " Class :character   Class :character   Class :character   Class :character  \n",
       " Mode  :character   Mode  :character   Mode  :character   Mode  :character  \n",
       "    score          \n",
       " Length:18033      \n",
       " Class :character  \n",
       " Mode  :character  "
      ]
     },
     "metadata": {},
     "output_type": "display_data"
    }
   ],
   "source": [
    "head(shows)\n",
    "dim(shows)\n",
    "str(shows)\n",
    "summary(shows)"
   ]
  },
  {
   "cell_type": "markdown",
   "metadata": {},
   "source": [
    "## Cleaning the Pedigree Table "
   ]
  },
  {
   "cell_type": "markdown",
   "metadata": {},
   "source": [
    "Duplication is very likely due to the scraping method: individuals who are descended from more than one of the great-grandparents I used as starting points will have been captured multiple times. I exclude 76 rows that are exact duplicates of another row in the table. Some horses have a second ID in brackets after the first, but this id is not used to refer to them in the shows table or as parents, so I remove it. "
   ]
  },
  {
   "cell_type": "code",
   "execution_count": 154,
   "metadata": {},
   "outputs": [
    {
     "data": {
      "text/html": [
       "<ol class=list-inline>\n",
       "\t<li>1005</li>\n",
       "\t<li>8</li>\n",
       "</ol>\n"
      ],
      "text/latex": [
       "\\begin{enumerate*}\n",
       "\\item 1005\n",
       "\\item 8\n",
       "\\end{enumerate*}\n"
      ],
      "text/markdown": [
       "1. 1005\n",
       "2. 8\n",
       "\n",
       "\n"
      ],
      "text/plain": [
       "[1] 1005    8"
      ]
     },
     "metadata": {},
     "output_type": "display_data"
    }
   ],
   "source": [
    "ped <- as_tibble(ped)\n",
    "\n",
    "# replace blank cells with NA\n",
    "ped[ped == ''] <- NA\n",
    "# remove duplicate rows \n",
    "ped <- ped %>%\n",
    "    mutate_all(str_trim) %>%\n",
    "    distinct()\n",
    "\n",
    "dim(ped)\n",
    "\n",
    "# remove unnecessary identifier\n",
    "ped$horse_id <- str_trim(str_remove(ped$horse_id, \"\\\\(.*\"))"
   ]
  },
  {
   "cell_type": "markdown",
   "metadata": {},
   "source": [
    "Next, I standardise the sexes. Although the distinction between geldings and stallions may be informative, 140 males are not distinguished as stallion or gelding. Thus, I am forced to collapse all males into a single category (1). This results in the removal of another 2 rows from the pedigree table, which likely were individuals listed as both male or female and also as either gelding, stallion, or mare. "
   ]
  },
  {
   "cell_type": "code",
   "execution_count": 155,
   "metadata": {},
   "outputs": [
    {
     "data": {
      "text/plain": [
       "\n",
       "  Female  Gelding     Male     Mare Stallion \n",
       "      13      351      140      267      210 "
      ]
     },
     "metadata": {},
     "output_type": "display_data"
    },
    {
     "data": {
      "text/plain": [
       "\n",
       "  0   1 \n",
       "280 701 "
      ]
     },
     "metadata": {},
     "output_type": "display_data"
    },
    {
     "data": {
      "text/html": [
       "<ol class=list-inline>\n",
       "\t<li>1005</li>\n",
       "\t<li>8</li>\n",
       "</ol>\n"
      ],
      "text/latex": [
       "\\begin{enumerate*}\n",
       "\\item 1005\n",
       "\\item 8\n",
       "\\end{enumerate*}\n"
      ],
      "text/markdown": [
       "1. 1005\n",
       "2. 8\n",
       "\n",
       "\n"
      ],
      "text/plain": [
       "[1] 1005    8"
      ]
     },
     "metadata": {},
     "output_type": "display_data"
    }
   ],
   "source": [
    "table(ped$sex)\n",
    "\n",
    "ped <- ped %>%\n",
    "    mutate(sex = case_when(sex == \"Mare\" ~ 0,\n",
    "                           sex == \"Female\" ~ 0,\n",
    "                           sex == \"Gelding\" ~ 1,\n",
    "                           sex == \"Stallion\" ~ 1,\n",
    "                           sex == \"Male\" ~ 1))\n",
    "\n",
    "table(ped$sex)\n",
    "ped$sex <- as.character(ped$sex)\n",
    "\n",
    "ped <- distinct(ped)\n",
    "dim(ped)"
   ]
  },
  {
   "cell_type": "markdown",
   "metadata": {},
   "source": [
    "Next, I want to obtain year of birth (YYYY) from the `dob` column. This column contains data in one of three formats: YYYY, DD/MM/YYYY or DD/MM/YYYY (age). Those in YYYY format fail to parse with `lubridate`, but I fix this with `case_when()`. "
   ]
  },
  {
   "cell_type": "code",
   "execution_count": 156,
   "metadata": {},
   "outputs": [
    {
     "name": "stderr",
     "output_type": "stream",
     "text": [
      "Warning message:\n",
      "\" 54 failed to parse.\""
     ]
    }
   ],
   "source": [
    "ped$dob <- str_trim(str_remove(ped$dob, \"\\\\(.*\"))\n",
    "ped$yob <- year(dmy(ped$dob))\n",
    "ped$yob <- as.character(ped$yob)\n",
    "\n",
    "ped <- ped %>%\n",
    "    mutate(yob = case_when(!is.na(yob) ~ yob,\n",
    "                           is.na(yob) & !is.na(dob) ~ dob,\n",
    "                           is.na(yob) & is.na(dob) ~ NA_character_))\n",
    "\n",
    "ped$dob <- NULL"
   ]
  },
  {
   "cell_type": "markdown",
   "metadata": {},
   "source": [
    "Despite the fact that I have removed identical rows, some IDs and UELNs still appear twice (35 and 41, respectively). The use of multiple identifier systems within the one dataset is the most difficult challenge I encountered when cleaning this data. The eventual goal is to represent individuals with just a single identifier in all instances. I suspect that this may be due to the fact that there were two different pedigree pages for some horses on the website from which the data was scraped, and one page might have had richer data than the other. Thus, I merge rows sharing IDs where they differ only by missing data. Rows that differ in the content of non-NA cells are left as is. "
   ]
  },
  {
   "cell_type": "code",
   "execution_count": 157,
   "metadata": {},
   "outputs": [
    {
     "data": {
      "text/html": [
       "41"
      ],
      "text/latex": [
       "41"
      ],
      "text/markdown": [
       "41"
      ],
      "text/plain": [
       "[1] 41"
      ]
     },
     "metadata": {},
     "output_type": "display_data"
    },
    {
     "data": {
      "text/html": [
       "35"
      ],
      "text/latex": [
       "35"
      ],
      "text/markdown": [
       "35"
      ],
      "text/plain": [
       "[1] 35"
      ]
     },
     "metadata": {},
     "output_type": "display_data"
    },
    {
     "name": "stderr",
     "output_type": "stream",
     "text": [
      "`summarise()` regrouping output by 'horse_ueln', 'horse_id' (override with `.groups` argument)\n"
     ]
    },
    {
     "data": {
      "text/html": [
       "<ol class=list-inline>\n",
       "\t<li>987</li>\n",
       "\t<li>8</li>\n",
       "</ol>\n"
      ],
      "text/latex": [
       "\\begin{enumerate*}\n",
       "\\item 987\n",
       "\\item 8\n",
       "\\end{enumerate*}\n"
      ],
      "text/markdown": [
       "1. 987\n",
       "2. 8\n",
       "\n",
       "\n"
      ],
      "text/plain": [
       "[1] 987   8"
      ]
     },
     "metadata": {},
     "output_type": "display_data"
    }
   ],
   "source": [
    "sum(table(ped$horse_id) > 1)\n",
    "sum(table(ped$horse_ueln) > 1)\n",
    "\n",
    "ped <- ped %>% \n",
    "     group_by(horse_ueln, horse_id) %>% \n",
    "     summarise(across(.fns = ~{x <- unique(na.omit(.));x[1:max(1, length(x))]}))\n",
    "dim(ped)"
   ]
  },
  {
   "cell_type": "markdown",
   "metadata": {},
   "source": [
    "This leaves 24 duplicated IDs and 19 duplicated UELNs. I want to know what fields are different between rows with a shared identifier. "
   ]
  },
  {
   "cell_type": "code",
   "execution_count": 158,
   "metadata": {},
   "outputs": [
    {
     "data": {
      "text/html": [
       "24"
      ],
      "text/latex": [
       "24"
      ],
      "text/markdown": [
       "24"
      ],
      "text/plain": [
       "[1] 24"
      ]
     },
     "metadata": {},
     "output_type": "display_data"
    },
    {
     "data": {
      "text/html": [
       "19"
      ],
      "text/latex": [
       "19"
      ],
      "text/markdown": [
       "19"
      ],
      "text/plain": [
       "[1] 19"
      ]
     },
     "metadata": {},
     "output_type": "display_data"
    },
    {
     "data": {
      "text/html": [
       "<dl class=dl-horizontal>\n",
       "\t<dt>horse_ueln</dt>\n",
       "\t\t<dd>4</dd>\n",
       "\t<dt>horse_id</dt>\n",
       "\t\t<dd>0</dd>\n",
       "\t<dt>dam_ueln</dt>\n",
       "\t\t<dd>21</dd>\n",
       "\t<dt>sire_ueln</dt>\n",
       "\t\t<dd>0</dd>\n",
       "\t<dt>dam_id</dt>\n",
       "\t\t<dd>0</dd>\n",
       "\t<dt>sire_id</dt>\n",
       "\t\t<dd>0</dd>\n",
       "\t<dt>sex</dt>\n",
       "\t\t<dd>0</dd>\n",
       "\t<dt>yob</dt>\n",
       "\t\t<dd>0</dd>\n",
       "</dl>\n"
      ],
      "text/latex": [
       "\\begin{description*}\n",
       "\\item[horse\\textbackslash{}\\_ueln] 4\n",
       "\\item[horse\\textbackslash{}\\_id] 0\n",
       "\\item[dam\\textbackslash{}\\_ueln] 21\n",
       "\\item[sire\\textbackslash{}\\_ueln] 0\n",
       "\\item[dam\\textbackslash{}\\_id] 0\n",
       "\\item[sire\\textbackslash{}\\_id] 0\n",
       "\\item[sex] 0\n",
       "\\item[yob] 0\n",
       "\\end{description*}\n"
      ],
      "text/markdown": [
       "horse_ueln\n",
       ":   4horse_id\n",
       ":   0dam_ueln\n",
       ":   21sire_ueln\n",
       ":   0dam_id\n",
       ":   0sire_id\n",
       ":   0sex\n",
       ":   0yob\n",
       ":   0\n",
       "\n"
      ],
      "text/plain": [
       "horse_ueln   horse_id   dam_ueln  sire_ueln     dam_id    sire_id        sex \n",
       "         4          0         21          0          0          0          0 \n",
       "       yob \n",
       "         0 "
      ]
     },
     "metadata": {},
     "output_type": "display_data"
    },
    {
     "data": {
      "text/html": [
       "<dl class=dl-horizontal>\n",
       "\t<dt>horse_ueln</dt>\n",
       "\t\t<dd>0</dd>\n",
       "\t<dt>horse_id</dt>\n",
       "\t\t<dd>0</dd>\n",
       "\t<dt>dam_ueln</dt>\n",
       "\t\t<dd>19</dd>\n",
       "\t<dt>sire_ueln</dt>\n",
       "\t\t<dd>0</dd>\n",
       "\t<dt>dam_id</dt>\n",
       "\t\t<dd>0</dd>\n",
       "\t<dt>sire_id</dt>\n",
       "\t\t<dd>0</dd>\n",
       "\t<dt>sex</dt>\n",
       "\t\t<dd>0</dd>\n",
       "\t<dt>yob</dt>\n",
       "\t\t<dd>0</dd>\n",
       "</dl>\n"
      ],
      "text/latex": [
       "\\begin{description*}\n",
       "\\item[horse\\textbackslash{}\\_ueln] 0\n",
       "\\item[horse\\textbackslash{}\\_id] 0\n",
       "\\item[dam\\textbackslash{}\\_ueln] 19\n",
       "\\item[sire\\textbackslash{}\\_ueln] 0\n",
       "\\item[dam\\textbackslash{}\\_id] 0\n",
       "\\item[sire\\textbackslash{}\\_id] 0\n",
       "\\item[sex] 0\n",
       "\\item[yob] 0\n",
       "\\end{description*}\n"
      ],
      "text/markdown": [
       "horse_ueln\n",
       ":   0horse_id\n",
       ":   0dam_ueln\n",
       ":   19sire_ueln\n",
       ":   0dam_id\n",
       ":   0sire_id\n",
       ":   0sex\n",
       ":   0yob\n",
       ":   0\n",
       "\n"
      ],
      "text/plain": [
       "horse_ueln   horse_id   dam_ueln  sire_ueln     dam_id    sire_id        sex \n",
       "         0          0         19          0          0          0          0 \n",
       "       yob \n",
       "         0 "
      ]
     },
     "metadata": {},
     "output_type": "display_data"
    }
   ],
   "source": [
    "sum(table(ped$horse_id) > 1)\n",
    "sum(table(ped$horse_ueln) > 1)\n",
    "\n",
    "getDupIds <- function(df, id_type) {\n",
    "    idlist <- df %>% \n",
    "        count(!!sym(id_type)) %>%\n",
    "        filter(n > 1) %>%\n",
    "        pull(id_type)\n",
    "    \n",
    "    idlist <- idlist[!is.na(idlist)]\n",
    "    \n",
    "    if (length(idlist) != 0) {\n",
    "        return(idlist) \n",
    "    } else {\n",
    "        return(\"No duplicate IDs.\")\n",
    "    }\n",
    " }\n",
    "\n",
    "countRowDiffs <- function(dup_id, df, id_type) {\n",
    "    df[is.na(df)] <- \"None\"\n",
    "    rows <- df[df[[id_type]] == dup_id,]\n",
    "    \n",
    "    comparisons <- combn(nrow(rows), 2)\n",
    "    \n",
    "    for (col in 1:ncol(comparisons)) {\n",
    "        if (col == 1) {\n",
    "            output <- rows[comparisons[1,col],] != rows[comparisons[2,col],]\n",
    "        } else {\n",
    "            output <- output + (rows[comparisons[1,col],] != rows[comparisons[2,col],])\n",
    "        }\n",
    "    }\n",
    "    \n",
    "    return(output)\n",
    "}\n",
    "\n",
    "colSums(do.call(rbind.data.frame, (map(getDupIds(ped, \"horse_id\"), countRowDiffs, ped, \"horse_id\"))))\n",
    "colSums(do.call(rbind.data.frame, (map(getDupIds(ped, \"horse_ueln\"), countRowDiffs, ped, \"horse_ueln\"))))"
   ]
  },
  {
   "cell_type": "markdown",
   "metadata": {},
   "source": [
    "There appears to be discrepancies between rows sharing identifiers in the `dam_ueln` and `horse_ueln` columns. I speculate that \"sires of dams\" might have become incorporated into this column, so I investigate whether the duplicated dam UELNs are ever present in `horse_ueln`, and listed as male, or present in `sire_ueln`. However, all the inconsistent dams with sex are female, and only two of forty are in the sire column. Ultimately, I conclude that the quality of the dam data is poor, and decide to perform analysis on sires alone."
   ]
  },
  {
   "cell_type": "code",
   "execution_count": 159,
   "metadata": {},
   "outputs": [
    {
     "data": {
      "text/html": [
       "40"
      ],
      "text/latex": [
       "40"
      ],
      "text/markdown": [
       "40"
      ],
      "text/plain": [
       "[1] 40"
      ]
     },
     "metadata": {},
     "output_type": "display_data"
    },
    {
     "data": {
      "text/html": [
       "19"
      ],
      "text/latex": [
       "19"
      ],
      "text/markdown": [
       "19"
      ],
      "text/plain": [
       "[1] 19"
      ]
     },
     "metadata": {},
     "output_type": "display_data"
    },
    {
     "data": {
      "text/html": [
       "2"
      ],
      "text/latex": [
       "2"
      ],
      "text/markdown": [
       "2"
      ],
      "text/plain": [
       "[1] 2"
      ]
     },
     "metadata": {},
     "output_type": "display_data"
    },
    {
     "data": {
      "text/html": [
       "<ol class=list-inline>\n",
       "\t<li>'0'</li>\n",
       "\t<li>'0'</li>\n",
       "\t<li>'0'</li>\n",
       "\t<li>'0'</li>\n",
       "\t<li>'0'</li>\n",
       "\t<li>'0'</li>\n",
       "\t<li>'0'</li>\n",
       "\t<li>'0'</li>\n",
       "\t<li>'0'</li>\n",
       "\t<li>NA</li>\n",
       "\t<li>NA</li>\n",
       "\t<li>'0'</li>\n",
       "\t<li>'0'</li>\n",
       "\t<li>'0'</li>\n",
       "\t<li>'0'</li>\n",
       "\t<li>'0'</li>\n",
       "\t<li>'0'</li>\n",
       "</ol>\n"
      ],
      "text/latex": [
       "\\begin{enumerate*}\n",
       "\\item '0'\n",
       "\\item '0'\n",
       "\\item '0'\n",
       "\\item '0'\n",
       "\\item '0'\n",
       "\\item '0'\n",
       "\\item '0'\n",
       "\\item '0'\n",
       "\\item '0'\n",
       "\\item NA\n",
       "\\item NA\n",
       "\\item '0'\n",
       "\\item '0'\n",
       "\\item '0'\n",
       "\\item '0'\n",
       "\\item '0'\n",
       "\\item '0'\n",
       "\\end{enumerate*}\n"
      ],
      "text/markdown": [
       "1. '0'\n",
       "2. '0'\n",
       "3. '0'\n",
       "4. '0'\n",
       "5. '0'\n",
       "6. '0'\n",
       "7. '0'\n",
       "8. '0'\n",
       "9. '0'\n",
       "10. NA\n",
       "11. NA\n",
       "12. '0'\n",
       "13. '0'\n",
       "14. '0'\n",
       "15. '0'\n",
       "16. '0'\n",
       "17. '0'\n",
       "\n",
       "\n"
      ],
      "text/plain": [
       " [1] \"0\" \"0\" \"0\" \"0\" \"0\" \"0\" \"0\" \"0\" \"0\" NA  NA  \"0\" \"0\" \"0\" \"0\" \"0\" \"0\""
      ]
     },
     "metadata": {},
     "output_type": "display_data"
    },
    {
     "data": {
      "text/html": [
       "'No duplicate IDs.'"
      ],
      "text/latex": [
       "'No duplicate IDs.'"
      ],
      "text/markdown": [
       "'No duplicate IDs.'"
      ],
      "text/plain": [
       "[1] \"No duplicate IDs.\""
      ]
     },
     "metadata": {},
     "output_type": "display_data"
    },
    {
     "data": {
      "text/html": [
       "'No duplicate IDs.'"
      ],
      "text/latex": [
       "'No duplicate IDs.'"
      ],
      "text/markdown": [
       "'No duplicate IDs.'"
      ],
      "text/plain": [
       "[1] \"No duplicate IDs.\""
      ]
     },
     "metadata": {},
     "output_type": "display_data"
    }
   ],
   "source": [
    "dupids <- getDupIds(ped, \"horse_id\")\n",
    "dupuelns <- getDupIds(ped, \"horse_ueln\")\n",
    "\n",
    "dupdams <- ped %>%\n",
    "    filter(horse_id %in% dupids | horse_ueln %in% dupuelns) %>%\n",
    "    pull(dam_ueln)\n",
    "\n",
    "length(dupdams)\n",
    "sum(dupdams %in% ped$horse_ueln)\n",
    "sum(dupdams %in% ped$sire_ueln)\n",
    "\n",
    "ped %>%\n",
    "    filter(horse_ueln %in% dupdams & !is.na(horse_ueln)) %>%\n",
    "    pull(sex)\n",
    "\n",
    "ped$dam_id <- NULL\n",
    "ped$dam_ueln <- NULL\n",
    "\n",
    "ped <- distinct(ped)\n",
    "\n",
    "getDupIds(ped, 'horse_id')\n",
    "getDupIds(ped, 'horse_ueln')"
   ]
  },
  {
   "cell_type": "markdown",
   "metadata": {},
   "source": [
    "Next I want to give each sire that does not have one his own row. First I check that all sires that already have their own row have the correct sex. Indeed, all sires are listed as males. This, with the consistency of sire data across duplicated records, assures me that sires have a higher level of data quality than what I observed for the dams."
   ]
  },
  {
   "cell_type": "code",
   "execution_count": 160,
   "metadata": {},
   "outputs": [
    {
     "data": {
      "text/html": [
       "<ol class=list-inline>\n",
       "\t<li>'1'</li>\n",
       "\t<li>'1'</li>\n",
       "\t<li>'1'</li>\n",
       "\t<li>'1'</li>\n",
       "\t<li>'1'</li>\n",
       "\t<li>'1'</li>\n",
       "\t<li>'1'</li>\n",
       "\t<li>'1'</li>\n",
       "\t<li>'1'</li>\n",
       "\t<li>'1'</li>\n",
       "\t<li>'1'</li>\n",
       "\t<li>'1'</li>\n",
       "\t<li>'1'</li>\n",
       "\t<li>'1'</li>\n",
       "\t<li>'1'</li>\n",
       "\t<li>'1'</li>\n",
       "\t<li>'1'</li>\n",
       "\t<li>'1'</li>\n",
       "\t<li>'1'</li>\n",
       "\t<li>'1'</li>\n",
       "\t<li>'1'</li>\n",
       "\t<li>'1'</li>\n",
       "\t<li>'1'</li>\n",
       "\t<li>'1'</li>\n",
       "\t<li>'1'</li>\n",
       "\t<li>'1'</li>\n",
       "\t<li>'1'</li>\n",
       "\t<li>'1'</li>\n",
       "\t<li>'1'</li>\n",
       "\t<li>'1'</li>\n",
       "\t<li>'1'</li>\n",
       "\t<li>'1'</li>\n",
       "\t<li>'1'</li>\n",
       "\t<li>'1'</li>\n",
       "\t<li>'1'</li>\n",
       "\t<li>'1'</li>\n",
       "\t<li>'1'</li>\n",
       "\t<li>'1'</li>\n",
       "\t<li>'1'</li>\n",
       "\t<li>'1'</li>\n",
       "\t<li>'1'</li>\n",
       "\t<li>'1'</li>\n",
       "\t<li>'1'</li>\n",
       "\t<li>'1'</li>\n",
       "\t<li>'1'</li>\n",
       "\t<li>'1'</li>\n",
       "\t<li>'1'</li>\n",
       "\t<li>'1'</li>\n",
       "\t<li>'1'</li>\n",
       "\t<li>'1'</li>\n",
       "\t<li>'1'</li>\n",
       "\t<li>'1'</li>\n",
       "\t<li>'1'</li>\n",
       "\t<li>'1'</li>\n",
       "\t<li>'1'</li>\n",
       "\t<li>'1'</li>\n",
       "\t<li>'1'</li>\n",
       "\t<li>'1'</li>\n",
       "\t<li>'1'</li>\n",
       "\t<li>'1'</li>\n",
       "\t<li>'1'</li>\n",
       "\t<li>'1'</li>\n",
       "\t<li>'1'</li>\n",
       "\t<li>'1'</li>\n",
       "\t<li>'1'</li>\n",
       "\t<li>'1'</li>\n",
       "\t<li>'1'</li>\n",
       "\t<li>'1'</li>\n",
       "\t<li>'1'</li>\n",
       "\t<li>'1'</li>\n",
       "\t<li>'1'</li>\n",
       "\t<li>'1'</li>\n",
       "\t<li>'1'</li>\n",
       "\t<li>'1'</li>\n",
       "\t<li>'1'</li>\n",
       "\t<li>'1'</li>\n",
       "\t<li>'1'</li>\n",
       "\t<li>'1'</li>\n",
       "\t<li>'1'</li>\n",
       "\t<li>'1'</li>\n",
       "\t<li>'1'</li>\n",
       "\t<li>'1'</li>\n",
       "\t<li>'1'</li>\n",
       "\t<li>'1'</li>\n",
       "\t<li>'1'</li>\n",
       "\t<li>'1'</li>\n",
       "\t<li>'1'</li>\n",
       "\t<li>'1'</li>\n",
       "\t<li>'1'</li>\n",
       "\t<li>'1'</li>\n",
       "\t<li>'1'</li>\n",
       "\t<li>'1'</li>\n",
       "\t<li>'1'</li>\n",
       "\t<li>'1'</li>\n",
       "\t<li>'1'</li>\n",
       "\t<li>'1'</li>\n",
       "\t<li>'1'</li>\n",
       "\t<li>'1'</li>\n",
       "</ol>\n"
      ],
      "text/latex": [
       "\\begin{enumerate*}\n",
       "\\item '1'\n",
       "\\item '1'\n",
       "\\item '1'\n",
       "\\item '1'\n",
       "\\item '1'\n",
       "\\item '1'\n",
       "\\item '1'\n",
       "\\item '1'\n",
       "\\item '1'\n",
       "\\item '1'\n",
       "\\item '1'\n",
       "\\item '1'\n",
       "\\item '1'\n",
       "\\item '1'\n",
       "\\item '1'\n",
       "\\item '1'\n",
       "\\item '1'\n",
       "\\item '1'\n",
       "\\item '1'\n",
       "\\item '1'\n",
       "\\item '1'\n",
       "\\item '1'\n",
       "\\item '1'\n",
       "\\item '1'\n",
       "\\item '1'\n",
       "\\item '1'\n",
       "\\item '1'\n",
       "\\item '1'\n",
       "\\item '1'\n",
       "\\item '1'\n",
       "\\item '1'\n",
       "\\item '1'\n",
       "\\item '1'\n",
       "\\item '1'\n",
       "\\item '1'\n",
       "\\item '1'\n",
       "\\item '1'\n",
       "\\item '1'\n",
       "\\item '1'\n",
       "\\item '1'\n",
       "\\item '1'\n",
       "\\item '1'\n",
       "\\item '1'\n",
       "\\item '1'\n",
       "\\item '1'\n",
       "\\item '1'\n",
       "\\item '1'\n",
       "\\item '1'\n",
       "\\item '1'\n",
       "\\item '1'\n",
       "\\item '1'\n",
       "\\item '1'\n",
       "\\item '1'\n",
       "\\item '1'\n",
       "\\item '1'\n",
       "\\item '1'\n",
       "\\item '1'\n",
       "\\item '1'\n",
       "\\item '1'\n",
       "\\item '1'\n",
       "\\item '1'\n",
       "\\item '1'\n",
       "\\item '1'\n",
       "\\item '1'\n",
       "\\item '1'\n",
       "\\item '1'\n",
       "\\item '1'\n",
       "\\item '1'\n",
       "\\item '1'\n",
       "\\item '1'\n",
       "\\item '1'\n",
       "\\item '1'\n",
       "\\item '1'\n",
       "\\item '1'\n",
       "\\item '1'\n",
       "\\item '1'\n",
       "\\item '1'\n",
       "\\item '1'\n",
       "\\item '1'\n",
       "\\item '1'\n",
       "\\item '1'\n",
       "\\item '1'\n",
       "\\item '1'\n",
       "\\item '1'\n",
       "\\item '1'\n",
       "\\item '1'\n",
       "\\item '1'\n",
       "\\item '1'\n",
       "\\item '1'\n",
       "\\item '1'\n",
       "\\item '1'\n",
       "\\item '1'\n",
       "\\item '1'\n",
       "\\item '1'\n",
       "\\item '1'\n",
       "\\item '1'\n",
       "\\item '1'\n",
       "\\item '1'\n",
       "\\end{enumerate*}\n"
      ],
      "text/markdown": [
       "1. '1'\n",
       "2. '1'\n",
       "3. '1'\n",
       "4. '1'\n",
       "5. '1'\n",
       "6. '1'\n",
       "7. '1'\n",
       "8. '1'\n",
       "9. '1'\n",
       "10. '1'\n",
       "11. '1'\n",
       "12. '1'\n",
       "13. '1'\n",
       "14. '1'\n",
       "15. '1'\n",
       "16. '1'\n",
       "17. '1'\n",
       "18. '1'\n",
       "19. '1'\n",
       "20. '1'\n",
       "21. '1'\n",
       "22. '1'\n",
       "23. '1'\n",
       "24. '1'\n",
       "25. '1'\n",
       "26. '1'\n",
       "27. '1'\n",
       "28. '1'\n",
       "29. '1'\n",
       "30. '1'\n",
       "31. '1'\n",
       "32. '1'\n",
       "33. '1'\n",
       "34. '1'\n",
       "35. '1'\n",
       "36. '1'\n",
       "37. '1'\n",
       "38. '1'\n",
       "39. '1'\n",
       "40. '1'\n",
       "41. '1'\n",
       "42. '1'\n",
       "43. '1'\n",
       "44. '1'\n",
       "45. '1'\n",
       "46. '1'\n",
       "47. '1'\n",
       "48. '1'\n",
       "49. '1'\n",
       "50. '1'\n",
       "51. '1'\n",
       "52. '1'\n",
       "53. '1'\n",
       "54. '1'\n",
       "55. '1'\n",
       "56. '1'\n",
       "57. '1'\n",
       "58. '1'\n",
       "59. '1'\n",
       "60. '1'\n",
       "61. '1'\n",
       "62. '1'\n",
       "63. '1'\n",
       "64. '1'\n",
       "65. '1'\n",
       "66. '1'\n",
       "67. '1'\n",
       "68. '1'\n",
       "69. '1'\n",
       "70. '1'\n",
       "71. '1'\n",
       "72. '1'\n",
       "73. '1'\n",
       "74. '1'\n",
       "75. '1'\n",
       "76. '1'\n",
       "77. '1'\n",
       "78. '1'\n",
       "79. '1'\n",
       "80. '1'\n",
       "81. '1'\n",
       "82. '1'\n",
       "83. '1'\n",
       "84. '1'\n",
       "85. '1'\n",
       "86. '1'\n",
       "87. '1'\n",
       "88. '1'\n",
       "89. '1'\n",
       "90. '1'\n",
       "91. '1'\n",
       "92. '1'\n",
       "93. '1'\n",
       "94. '1'\n",
       "95. '1'\n",
       "96. '1'\n",
       "97. '1'\n",
       "98. '1'\n",
       "\n",
       "\n"
      ],
      "text/plain": [
       " [1] \"1\" \"1\" \"1\" \"1\" \"1\" \"1\" \"1\" \"1\" \"1\" \"1\" \"1\" \"1\" \"1\" \"1\" \"1\" \"1\" \"1\" \"1\" \"1\"\n",
       "[20] \"1\" \"1\" \"1\" \"1\" \"1\" \"1\" \"1\" \"1\" \"1\" \"1\" \"1\" \"1\" \"1\" \"1\" \"1\" \"1\" \"1\" \"1\" \"1\"\n",
       "[39] \"1\" \"1\" \"1\" \"1\" \"1\" \"1\" \"1\" \"1\" \"1\" \"1\" \"1\" \"1\" \"1\" \"1\" \"1\" \"1\" \"1\" \"1\" \"1\"\n",
       "[58] \"1\" \"1\" \"1\" \"1\" \"1\" \"1\" \"1\" \"1\" \"1\" \"1\" \"1\" \"1\" \"1\" \"1\" \"1\" \"1\" \"1\" \"1\" \"1\"\n",
       "[77] \"1\" \"1\" \"1\" \"1\" \"1\" \"1\" \"1\" \"1\" \"1\" \"1\" \"1\" \"1\" \"1\" \"1\" \"1\" \"1\" \"1\" \"1\" \"1\"\n",
       "[96] \"1\" \"1\" \"1\""
      ]
     },
     "metadata": {},
     "output_type": "display_data"
    }
   ],
   "source": [
    "sireids <- unique(ped$sire_id)\n",
    "sireuelns <- unique(ped$sire_ueln)\n",
    "\n",
    "sires <- ped %>%\n",
    "    filter((horse_id %in% sireids | horse_ueln %in% sireuelns) & !is.na(horse_ueln))\n",
    "\n",
    "pull(sires, sex)"
   ]
  },
  {
   "cell_type": "markdown",
   "metadata": {},
   "source": [
    "Now the pedigree table is mostly clean, but before I finish I will examine missingness in the dataset. As is demonstrated by the UpSet plot below, `sire_id` is missing most of the time. This is because sires are most commonly referred to by their UELNs. Not all individuals will have a sire listed, because pedigree often didn't not stretch back very far. `sex` and `yob` are not commonly missing. `horse_ueln` has some missingness, meaning that we will not be able to identify if they are also sires. Reassuringly, all horses have a unique ID. "
   ]
  },
  {
   "cell_type": "code",
   "execution_count": 161,
   "metadata": {},
   "outputs": [
    {
     "data": {
      "image/png": "[encoded data removed]",
      "text/plain": [
       "plot without title"
      ]
     },
     "metadata": {},
     "output_type": "display_data"
    }
   ],
   "source": [
    "library(naniar)\n",
    "\n",
    "gg_miss_upset(ped)"
   ]
  },
  {
   "cell_type": "markdown",
   "metadata": {},
   "source": [
    "## Cleaning the Shows Table"
   ]
  },
  {
   "cell_type": "markdown",
   "metadata": {},
   "source": [
    "To begin, I clean the `yob` and `sex` columns as I did for `ped`. I also double check that the `ped` and `shows` tables agree about the sex and year of birth of individual horses. This gives me confidence in the accuracy of my data, given that the sex and year of birth for both tables were scraped from different webpages."
   ]
  },
  {
   "cell_type": "code",
   "execution_count": 162,
   "metadata": {},
   "outputs": [
    {
     "data": {
      "text/plain": [
       "\n",
       "    0     1 \n",
       " 3059 14974 "
      ]
     },
     "metadata": {},
     "output_type": "display_data"
    },
    {
     "data": {
      "text/html": [
       "<ol class=list-inline>\n",
       "\t<li>2005</li>\n",
       "\t<li>2005</li>\n",
       "\t<li>2005</li>\n",
       "\t<li>2005</li>\n",
       "\t<li>2005</li>\n",
       "\t<li>2005</li>\n",
       "</ol>\n"
      ],
      "text/latex": [
       "\\begin{enumerate*}\n",
       "\\item 2005\n",
       "\\item 2005\n",
       "\\item 2005\n",
       "\\item 2005\n",
       "\\item 2005\n",
       "\\item 2005\n",
       "\\end{enumerate*}\n"
      ],
      "text/markdown": [
       "1. 2005\n",
       "2. 2005\n",
       "3. 2005\n",
       "4. 2005\n",
       "5. 2005\n",
       "6. 2005\n",
       "\n",
       "\n"
      ],
      "text/plain": [
       "[1] 2005 2005 2005 2005 2005 2005"
      ]
     },
     "metadata": {},
     "output_type": "display_data"
    },
    {
     "name": "stderr",
     "output_type": "stream",
     "text": [
      "Adding missing grouping variables: `horse_ueln`\n"
     ]
    },
    {
     "data": {
      "text/html": [
       "<table>\n",
       "<thead><tr><th scope=col>horse_ueln</th><th scope=col>horse_id</th><th scope=col>n</th></tr></thead>\n",
       "<tbody>\n",
       "</tbody>\n",
       "</table>\n"
      ],
      "text/latex": [
       "\\begin{tabular}{r|lll}\n",
       " horse\\_ueln & horse\\_id & n\\\\\n",
       "\\hline\n",
       "\\end{tabular}\n"
      ],
      "text/markdown": [
       "\n",
       "| horse_ueln | horse_id | n |\n",
       "|---|---|---|\n",
       "\n"
      ],
      "text/plain": [
       "     horse_ueln horse_id n"
      ]
     },
     "metadata": {},
     "output_type": "display_data"
    }
   ],
   "source": [
    "shows <- shows %>%\n",
    "  mutate(sex=replace(sex, sex == \"Mare\", \"0\")) %>%\n",
    "  mutate(sex=replace(sex, sex == \"Stallion\", \"1\")) %>%\n",
    "  mutate(sex=replace(sex, sex == \"Gelding\", \"1\")) %>%\n",
    "  mutate(sex=replace(sex, sex == \"Male\", \"1\")) %>%\n",
    "  mutate(sex=replace(sex, sex == \"Female\", \"0\"))\n",
    "\n",
    "shows$dob <- str_trim(str_remove(shows$dob, \"^[^-]*-\"))\n",
    "\n",
    "shows$yob <- year(dmy(shows$dob))\n",
    "\n",
    "table(shows$sex)\n",
    "head(shows$yob)\n",
    "\n",
    "ped %>%\n",
    "  inner_join(., shows, by = \"horse_id\") %>%\n",
    "  select(horse_id, sex.y, sex.x, yob.x, yob.y) %>%\n",
    "  distinct() %>%\n",
    "  count(horse_id) %>%\n",
    "  filter(n > 1)"
   ]
  },
  {
   "cell_type": "markdown",
   "metadata": {},
   "source": [
    "I assign each show a unique identifier. Seven of the individuals with show results in this table are not included in the pedigree table, and are thus discarded. I also remove team show results, as these are the sum of all individuals in the team."
   ]
  },
  {
   "cell_type": "code",
   "execution_count": 163,
   "metadata": {},
   "outputs": [
    {
     "name": "stderr",
     "output_type": "stream",
     "text": [
      "Warning message in eval(expr, envir, enclos):\n",
      "\"NAs introduced by coercion\"`summarise()` ungrouping output (override with `.groups` argument)\n"
     ]
    },
    {
     "data": {
      "text/html": [
       "<table>\n",
       "<thead><tr><th scope=col>comp_title</th><th scope=col>mean</th></tr></thead>\n",
       "<tbody>\n",
       "\t<tr><td>Team Classification</td><td>142.4083           </td></tr>\n",
       "</tbody>\n",
       "</table>\n"
      ],
      "text/latex": [
       "\\begin{tabular}{r|ll}\n",
       " comp\\_title & mean\\\\\n",
       "\\hline\n",
       "\t Team Classification & 142.4083           \\\\\n",
       "\\end{tabular}\n"
      ],
      "text/markdown": [
       "\n",
       "| comp_title | mean |\n",
       "|---|---|\n",
       "| Team Classification | 142.4083            |\n",
       "\n"
      ],
      "text/plain": [
       "  comp_title          mean    \n",
       "1 Team Classification 142.4083"
      ]
     },
     "metadata": {},
     "output_type": "display_data"
    }
   ],
   "source": [
    "shows$show_id <- c(1:nrow(shows))\n",
    "shows$score <- as.numeric(shows$score)\n",
    "\n",
    "shows <- shows %>% \n",
    "  filter(horse_id %in% ped$horse_id)\n",
    "\n",
    "shows %>%\n",
    " group_by(comp_title) %>%\n",
    " summarise(mean = mean(score, na.rm = T)) %>%\n",
    " filter(mean > 100)\n",
    "  \n",
    "shows <- shows %>%\n",
    "  filter(!str_detect(comp_title, \"Team\"))"
   ]
  },
  {
   "cell_type": "markdown",
   "metadata": {},
   "source": [
    "A histogram is used to identify any other outliers. There is a peak between 0 and 20, which is highly unusual. These points are exclusively from young horse (YH) shows, which have different scoring systems. All young horse shows are removed from the dataset, leaving an approximately normal distribution of show scores, with the except of one outlier with a score of 0. This score is impossible, so I exclude this individual. The dataset now contains 16,352 show records, 548 of which are NA."
   ]
  },
  {
   "cell_type": "code",
   "execution_count": 164,
   "metadata": {},
   "outputs": [
    {
     "name": "stderr",
     "output_type": "stream",
     "text": [
      "`summarise()` ungrouping output (override with `.groups` argument)\n"
     ]
    },
    {
     "data": {
      "text/html": [
       "<table>\n",
       "<thead><tr><th scope=col>comp_title</th><th scope=col>mean</th></tr></thead>\n",
       "<tbody>\n",
       "\t<tr><td>Small Final - YH 6 YO    </td><td> 7.600000                </td></tr>\n",
       "\t<tr><td>YH 5 Final               </td><td>16.280000                </td></tr>\n",
       "\t<tr><td>YH 5 Final - Test for 5-y</td><td> 9.220000                </td></tr>\n",
       "\t<tr><td>YH 5 Prel                </td><td>15.421538                </td></tr>\n",
       "\t<tr><td>YH 5 Prel - Preliminary T</td><td> 8.680000                </td></tr>\n",
       "\t<tr><td>YH 6 Final               </td><td>27.106667                </td></tr>\n",
       "\t<tr><td>YH 6 Final - Test for 6-y</td><td> 8.293333                </td></tr>\n",
       "\t<tr><td>YH 6 Prel                </td><td>21.868000                </td></tr>\n",
       "\t<tr><td>YH 6 Prel - Preliminary T</td><td> 8.311667                </td></tr>\n",
       "</tbody>\n",
       "</table>\n"
      ],
      "text/latex": [
       "\\begin{tabular}{r|ll}\n",
       " comp\\_title & mean\\\\\n",
       "\\hline\n",
       "\t Small Final - YH 6 YO     &  7.600000                \\\\\n",
       "\t YH 5 Final                & 16.280000                \\\\\n",
       "\t YH 5 Final - Test for 5-y &  9.220000                \\\\\n",
       "\t YH 5 Prel                 & 15.421538                \\\\\n",
       "\t YH 5 Prel - Preliminary T &  8.680000                \\\\\n",
       "\t YH 6 Final                & 27.106667                \\\\\n",
       "\t YH 6 Final - Test for 6-y &  8.293333                \\\\\n",
       "\t YH 6 Prel                 & 21.868000                \\\\\n",
       "\t YH 6 Prel - Preliminary T &  8.311667                \\\\\n",
       "\\end{tabular}\n"
      ],
      "text/markdown": [
       "\n",
       "| comp_title | mean |\n",
       "|---|---|\n",
       "| Small Final - YH 6 YO     |  7.600000                 |\n",
       "| YH 5 Final                | 16.280000                 |\n",
       "| YH 5 Final - Test for 5-y |  9.220000                 |\n",
       "| YH 5 Prel                 | 15.421538                 |\n",
       "| YH 5 Prel - Preliminary T |  8.680000                 |\n",
       "| YH 6 Final                | 27.106667                 |\n",
       "| YH 6 Final - Test for 6-y |  8.293333                 |\n",
       "| YH 6 Prel                 | 21.868000                 |\n",
       "| YH 6 Prel - Preliminary T |  8.311667                 |\n",
       "\n"
      ],
      "text/plain": [
       "  comp_title                mean     \n",
       "1 Small Final - YH 6 YO      7.600000\n",
       "2 YH 5 Final                16.280000\n",
       "3 YH 5 Final - Test for 5-y  9.220000\n",
       "4 YH 5 Prel                 15.421538\n",
       "5 YH 5 Prel - Preliminary T  8.680000\n",
       "6 YH 6 Final                27.106667\n",
       "7 YH 6 Final - Test for 6-y  8.293333\n",
       "8 YH 6 Prel                 21.868000\n",
       "9 YH 6 Prel - Preliminary T  8.311667"
      ]
     },
     "metadata": {},
     "output_type": "display_data"
    },
    {
     "data": {
      "image/png": "[encoded data removed]",
      "text/plain": [
       "Plot with title \"Histogram of shows$score\""
      ]
     },
     "metadata": {},
     "output_type": "display_data"
    }
   ],
   "source": [
    "hist(shows$score)\n",
    "\n",
    "shows %>%\n",
    "  group_by(comp_title) %>%\n",
    "  summarise(mean = mean(score, na.rm = T)) %>%\n",
    "  filter(mean < 30)\n",
    "\n",
    "shows <- shows %>% \n",
    "  filter(!str_detect(comp_title, \"YH\")) %>%\n",
    "  filter(score != 0 | is.na(score))"
   ]
  },
  {
   "cell_type": "markdown",
   "metadata": {},
   "source": [
    "I hypothesise that these NAs may represent individuals who did not complete competition, due to retirement, for example. There are four categories for non-completion in this dataset: EL (elimination), DSQ (disqualification), RET (retirement), and WD (withdrawn). There are 94, 7, 124, and 148 occurances of these, respectively, within the data. The scores are always NA when one of these labels is present. Scores for these individuals will be imputed in the exploratory analysis. \n",
    "\n",
    "This leaves 218 unaccounted for NA scores. They are enriched for \"final classifications\" and \"historical rules\" which would be an overall position, rather than a single show's score. I remove these also. "
   ]
  },
  {
   "cell_type": "code",
   "execution_count": 165,
   "metadata": {},
   "outputs": [
    {
     "data": {
      "text/html": [
       "<ol class=list-inline>\n",
       "\t<li>'1'</li>\n",
       "\t<li>'2'</li>\n",
       "\t<li>'4'</li>\n",
       "\t<li>'3'</li>\n",
       "\t<li>'31'</li>\n",
       "\t<li>'WD'</li>\n",
       "\t<li>'6'</li>\n",
       "\t<li>'7'</li>\n",
       "\t<li>'5'</li>\n",
       "\t<li>'9'</li>\n",
       "\t<li>'16'</li>\n",
       "\t<li>'EL'</li>\n",
       "\t<li>'8'</li>\n",
       "\t<li>'13'</li>\n",
       "\t<li>'12'</li>\n",
       "\t<li>'10'</li>\n",
       "\t<li>'19'</li>\n",
       "\t<li>'11'</li>\n",
       "\t<li>'18'</li>\n",
       "\t<li>'RET'</li>\n",
       "\t<li>'21'</li>\n",
       "\t<li>'17'</li>\n",
       "\t<li>'24'</li>\n",
       "\t<li>'25'</li>\n",
       "\t<li>'29'</li>\n",
       "\t<li>'14'</li>\n",
       "\t<li>'15'</li>\n",
       "\t<li>'26'</li>\n",
       "\t<li>'20'</li>\n",
       "\t<li>'27'</li>\n",
       "\t<li>'28'</li>\n",
       "\t<li>'38'</li>\n",
       "\t<li>'23'</li>\n",
       "\t<li>'22'</li>\n",
       "\t<li>'33'</li>\n",
       "\t<li>'30'</li>\n",
       "\t<li>'35'</li>\n",
       "\t<li>'32'</li>\n",
       "\t<li>'55'</li>\n",
       "\t<li>'58'</li>\n",
       "\t<li>'37'</li>\n",
       "\t<li>'65'</li>\n",
       "\t<li>'41'</li>\n",
       "\t<li>'45'</li>\n",
       "\t<li>'DSQ'</li>\n",
       "\t<li>'34'</li>\n",
       "\t<li>NA</li>\n",
       "\t<li>'36'</li>\n",
       "\t<li>'50'</li>\n",
       "\t<li>'63'</li>\n",
       "\t<li>'73'</li>\n",
       "\t<li>'74'</li>\n",
       "\t<li>'56'</li>\n",
       "\t<li>'60'</li>\n",
       "\t<li>'39'</li>\n",
       "\t<li>'51'</li>\n",
       "\t<li>'70'</li>\n",
       "\t<li>'43'</li>\n",
       "\t<li>'61'</li>\n",
       "\t<li>'76'</li>\n",
       "\t<li>'40'</li>\n",
       "\t<li>'47'</li>\n",
       "\t<li>'42'</li>\n",
       "\t<li>'54'</li>\n",
       "\t<li>'44'</li>\n",
       "\t<li>'64'</li>\n",
       "\t<li>'57'</li>\n",
       "\t<li>'59'</li>\n",
       "\t<li>'53'</li>\n",
       "\t<li>'66'</li>\n",
       "\t<li>'84'</li>\n",
       "\t<li>'71'</li>\n",
       "\t<li>'62'</li>\n",
       "\t<li>'93'</li>\n",
       "</ol>\n"
      ],
      "text/latex": [
       "\\begin{enumerate*}\n",
       "\\item '1'\n",
       "\\item '2'\n",
       "\\item '4'\n",
       "\\item '3'\n",
       "\\item '31'\n",
       "\\item 'WD'\n",
       "\\item '6'\n",
       "\\item '7'\n",
       "\\item '5'\n",
       "\\item '9'\n",
       "\\item '16'\n",
       "\\item 'EL'\n",
       "\\item '8'\n",
       "\\item '13'\n",
       "\\item '12'\n",
       "\\item '10'\n",
       "\\item '19'\n",
       "\\item '11'\n",
       "\\item '18'\n",
       "\\item 'RET'\n",
       "\\item '21'\n",
       "\\item '17'\n",
       "\\item '24'\n",
       "\\item '25'\n",
       "\\item '29'\n",
       "\\item '14'\n",
       "\\item '15'\n",
       "\\item '26'\n",
       "\\item '20'\n",
       "\\item '27'\n",
       "\\item '28'\n",
       "\\item '38'\n",
       "\\item '23'\n",
       "\\item '22'\n",
       "\\item '33'\n",
       "\\item '30'\n",
       "\\item '35'\n",
       "\\item '32'\n",
       "\\item '55'\n",
       "\\item '58'\n",
       "\\item '37'\n",
       "\\item '65'\n",
       "\\item '41'\n",
       "\\item '45'\n",
       "\\item 'DSQ'\n",
       "\\item '34'\n",
       "\\item NA\n",
       "\\item '36'\n",
       "\\item '50'\n",
       "\\item '63'\n",
       "\\item '73'\n",
       "\\item '74'\n",
       "\\item '56'\n",
       "\\item '60'\n",
       "\\item '39'\n",
       "\\item '51'\n",
       "\\item '70'\n",
       "\\item '43'\n",
       "\\item '61'\n",
       "\\item '76'\n",
       "\\item '40'\n",
       "\\item '47'\n",
       "\\item '42'\n",
       "\\item '54'\n",
       "\\item '44'\n",
       "\\item '64'\n",
       "\\item '57'\n",
       "\\item '59'\n",
       "\\item '53'\n",
       "\\item '66'\n",
       "\\item '84'\n",
       "\\item '71'\n",
       "\\item '62'\n",
       "\\item '93'\n",
       "\\end{enumerate*}\n"
      ],
      "text/markdown": [
       "1. '1'\n",
       "2. '2'\n",
       "3. '4'\n",
       "4. '3'\n",
       "5. '31'\n",
       "6. 'WD'\n",
       "7. '6'\n",
       "8. '7'\n",
       "9. '5'\n",
       "10. '9'\n",
       "11. '16'\n",
       "12. 'EL'\n",
       "13. '8'\n",
       "14. '13'\n",
       "15. '12'\n",
       "16. '10'\n",
       "17. '19'\n",
       "18. '11'\n",
       "19. '18'\n",
       "20. 'RET'\n",
       "21. '21'\n",
       "22. '17'\n",
       "23. '24'\n",
       "24. '25'\n",
       "25. '29'\n",
       "26. '14'\n",
       "27. '15'\n",
       "28. '26'\n",
       "29. '20'\n",
       "30. '27'\n",
       "31. '28'\n",
       "32. '38'\n",
       "33. '23'\n",
       "34. '22'\n",
       "35. '33'\n",
       "36. '30'\n",
       "37. '35'\n",
       "38. '32'\n",
       "39. '55'\n",
       "40. '58'\n",
       "41. '37'\n",
       "42. '65'\n",
       "43. '41'\n",
       "44. '45'\n",
       "45. 'DSQ'\n",
       "46. '34'\n",
       "47. NA\n",
       "48. '36'\n",
       "49. '50'\n",
       "50. '63'\n",
       "51. '73'\n",
       "52. '74'\n",
       "53. '56'\n",
       "54. '60'\n",
       "55. '39'\n",
       "56. '51'\n",
       "57. '70'\n",
       "58. '43'\n",
       "59. '61'\n",
       "60. '76'\n",
       "61. '40'\n",
       "62. '47'\n",
       "63. '42'\n",
       "64. '54'\n",
       "65. '44'\n",
       "66. '64'\n",
       "67. '57'\n",
       "68. '59'\n",
       "69. '53'\n",
       "70. '66'\n",
       "71. '84'\n",
       "72. '71'\n",
       "73. '62'\n",
       "74. '93'\n",
       "\n",
       "\n"
      ],
      "text/plain": [
       " [1] \"1\"   \"2\"   \"4\"   \"3\"   \"31\"  \"WD\"  \"6\"   \"7\"   \"5\"   \"9\"   \"16\"  \"EL\" \n",
       "[13] \"8\"   \"13\"  \"12\"  \"10\"  \"19\"  \"11\"  \"18\"  \"RET\" \"21\"  \"17\"  \"24\"  \"25\" \n",
       "[25] \"29\"  \"14\"  \"15\"  \"26\"  \"20\"  \"27\"  \"28\"  \"38\"  \"23\"  \"22\"  \"33\"  \"30\" \n",
       "[37] \"35\"  \"32\"  \"55\"  \"58\"  \"37\"  \"65\"  \"41\"  \"45\"  \"DSQ\" \"34\"  NA    \"36\" \n",
       "[49] \"50\"  \"63\"  \"73\"  \"74\"  \"56\"  \"60\"  \"39\"  \"51\"  \"70\"  \"43\"  \"61\"  \"76\" \n",
       "[61] \"40\"  \"47\"  \"42\"  \"54\"  \"44\"  \"64\"  \"57\"  \"59\"  \"53\"  \"66\"  \"84\"  \"71\" \n",
       "[73] \"62\"  \"93\" "
      ]
     },
     "metadata": {},
     "output_type": "display_data"
    },
    {
     "data": {
      "text/html": [
       "<table>\n",
       "<thead><tr><th scope=col>position</th><th scope=col>n</th></tr></thead>\n",
       "<tbody>\n",
       "\t<tr><td>DSQ</td><td>  7</td></tr>\n",
       "\t<tr><td>EL </td><td> 94</td></tr>\n",
       "\t<tr><td>RET</td><td>125</td></tr>\n",
       "\t<tr><td>WD </td><td>148</td></tr>\n",
       "</tbody>\n",
       "</table>\n"
      ],
      "text/latex": [
       "\\begin{tabular}{r|ll}\n",
       " position & n\\\\\n",
       "\\hline\n",
       "\t DSQ &   7\\\\\n",
       "\t EL  &  94\\\\\n",
       "\t RET & 125\\\\\n",
       "\t WD  & 148\\\\\n",
       "\\end{tabular}\n"
      ],
      "text/markdown": [
       "\n",
       "| position | n |\n",
       "|---|---|\n",
       "| DSQ |   7 |\n",
       "| EL  |  94 |\n",
       "| RET | 125 |\n",
       "| WD  | 148 |\n",
       "\n"
      ],
      "text/plain": [
       "  position n  \n",
       "1 DSQ        7\n",
       "2 EL        94\n",
       "3 RET      125\n",
       "4 WD       148"
      ]
     },
     "metadata": {},
     "output_type": "display_data"
    },
    {
     "data": {
      "text/html": [
       "<table>\n",
       "<thead><tr><th scope=col>comp_title</th><th scope=col>n</th></tr></thead>\n",
       "<tbody>\n",
       "\t<tr><td>FC - Final Classification             </td><td>28                                    </td></tr>\n",
       "\t<tr><td>Final Classification                  </td><td>91                                    </td></tr>\n",
       "\t<tr><td>Hist - Historical Rule                </td><td> 3                                    </td></tr>\n",
       "\t<tr><td>J FS - Junior Freestyle to Music      </td><td> 1                                    </td></tr>\n",
       "\t<tr><td>Y FS - Young Riders Freestyle to Music</td><td> 1                                    </td></tr>\n",
       "</tbody>\n",
       "</table>\n"
      ],
      "text/latex": [
       "\\begin{tabular}{r|ll}\n",
       " comp\\_title & n\\\\\n",
       "\\hline\n",
       "\t FC - Final Classification              & 28                                    \\\\\n",
       "\t Final Classification                   & 91                                    \\\\\n",
       "\t Hist - Historical Rule                 &  3                                    \\\\\n",
       "\t J FS - Junior Freestyle to Music       &  1                                    \\\\\n",
       "\t Y FS - Young Riders Freestyle to Music &  1                                    \\\\\n",
       "\\end{tabular}\n"
      ],
      "text/markdown": [
       "\n",
       "| comp_title | n |\n",
       "|---|---|\n",
       "| FC - Final Classification              | 28                                     |\n",
       "| Final Classification                   | 91                                     |\n",
       "| Hist - Historical Rule                 |  3                                     |\n",
       "| J FS - Junior Freestyle to Music       |  1                                     |\n",
       "| Y FS - Young Riders Freestyle to Music |  1                                     |\n",
       "\n"
      ],
      "text/plain": [
       "  comp_title                             n \n",
       "1 FC - Final Classification              28\n",
       "2 Final Classification                   91\n",
       "3 Hist - Historical Rule                  3\n",
       "4 J FS - Junior Freestyle to Music        1\n",
       "5 Y FS - Young Riders Freestyle to Music  1"
      ]
     },
     "metadata": {},
     "output_type": "display_data"
    }
   ],
   "source": [
    "unique(shows$position)\n",
    "shows %>%\n",
    "  filter(position == \"RET\" | position == \"DSQ\" | position == \"WD\" | position == \"EL\") %>%\n",
    "  count(position)\n",
    "\n",
    "shows %>%\n",
    "  filter(!(position == \"RET\" | position == \"DSQ\" | position == \"WD\" | position == \"EL\")) %>%\n",
    "  filter(is.na(score)) %>%\n",
    "  count(comp_title)\n",
    "\n",
    "shows <- shows %>% \n",
    "  filter(!str_detect(comp_title, \"Final Classification\") & !str_detect(comp_title, \"Historical Rule\"))"
   ]
  },
  {
   "cell_type": "markdown",
   "metadata": {},
   "source": [
    "This left only 2 shows with NA scores that could not be explained by non-completion or competition type. This is just 0.012% of all of the scraped shows, so shouldn't exert a strong effect on the data. I looked to see whether certain riders or horses were enriched for these unexplained NA scores. Indeed, both records came from the same combination, but this combination also has 25 other unaffected rows. I decide to just eliminate these two show results, although I cannot explain why they are missing."
   ]
  },
  {
   "cell_type": "code",
   "execution_count": 166,
   "metadata": {},
   "outputs": [
    {
     "data": {
      "text/html": [
       "425"
      ],
      "text/latex": [
       "425"
      ],
      "text/markdown": [
       "425"
      ],
      "text/plain": [
       "[1] 425"
      ]
     },
     "metadata": {},
     "output_type": "display_data"
    },
    {
     "data": {
      "text/html": [
       "<table>\n",
       "<thead><tr><th scope=col>location</th><th scope=col>event_type</th><th scope=col>comp_title</th><th scope=col>horse_id</th><th scope=col>dob</th><th scope=col>sex</th><th scope=col>rider_id</th><th scope=col>position</th><th scope=col>score</th><th scope=col>yob</th><th scope=col>show_id</th></tr></thead>\n",
       "<tbody>\n",
       "\t<tr><td>GER                                   </td><td>CH-EU-Y-D                             </td><td>Y FS - Young Riders Freestyle to Music</td><td>GER43431                              </td><td>12/07/2001                            </td><td>1                                     </td><td>10019451                              </td><td>2                                     </td><td>NA                                    </td><td>2001                                  </td><td>12972                                 </td></tr>\n",
       "\t<tr><td>NED                                   </td><td>CH-EU-J-D                             </td><td>J FS - Junior Freestyle to Music      </td><td>GER43431                              </td><td>12/07/2001                            </td><td>1                                     </td><td>10019451                              </td><td>1                                     </td><td>NA                                    </td><td>2001                                  </td><td>12974                                 </td></tr>\n",
       "</tbody>\n",
       "</table>\n"
      ],
      "text/latex": [
       "\\begin{tabular}{r|lllllllllll}\n",
       " location & event\\_type & comp\\_title & horse\\_id & dob & sex & rider\\_id & position & score & yob & show\\_id\\\\\n",
       "\\hline\n",
       "\t GER                                    & CH-EU-Y-D                              & Y FS - Young Riders Freestyle to Music & GER43431                               & 12/07/2001                             & 1                                      & 10019451                               & 2                                      & NA                                     & 2001                                   & 12972                                 \\\\\n",
       "\t NED                                    & CH-EU-J-D                              & J FS - Junior Freestyle to Music       & GER43431                               & 12/07/2001                             & 1                                      & 10019451                               & 1                                      & NA                                     & 2001                                   & 12974                                 \\\\\n",
       "\\end{tabular}\n"
      ],
      "text/markdown": [
       "\n",
       "| location | event_type | comp_title | horse_id | dob | sex | rider_id | position | score | yob | show_id |\n",
       "|---|---|---|---|---|---|---|---|---|---|---|\n",
       "| GER                                    | CH-EU-Y-D                              | Y FS - Young Riders Freestyle to Music | GER43431                               | 12/07/2001                             | 1                                      | 10019451                               | 2                                      | NA                                     | 2001                                   | 12972                                  |\n",
       "| NED                                    | CH-EU-J-D                              | J FS - Junior Freestyle to Music       | GER43431                               | 12/07/2001                             | 1                                      | 10019451                               | 1                                      | NA                                     | 2001                                   | 12974                                  |\n",
       "\n"
      ],
      "text/plain": [
       "  location event_type comp_title                             horse_id\n",
       "1 GER      CH-EU-Y-D  Y FS - Young Riders Freestyle to Music GER43431\n",
       "2 NED      CH-EU-J-D  J FS - Junior Freestyle to Music       GER43431\n",
       "  dob        sex rider_id position score yob  show_id\n",
       "1 12/07/2001 1   10019451 2        NA    2001 12972  \n",
       "2 12/07/2001 1   10019451 1        NA    2001 12974  "
      ]
     },
     "metadata": {},
     "output_type": "display_data"
    },
    {
     "data": {
      "text/html": [
       "27"
      ],
      "text/latex": [
       "27"
      ],
      "text/markdown": [
       "27"
      ],
      "text/plain": [
       "[1] 27"
      ]
     },
     "metadata": {},
     "output_type": "display_data"
    }
   ],
   "source": [
    "sum(is.na(shows$score))\n",
    "\n",
    "shows %>%\n",
    "  filter(!(position == \"RET\" | position == \"DSQ\" | position == \"WD\" | position == \"EL\")) %>%\n",
    "  filter(is.na(score)) \n",
    "\n",
    "nrow(shows[shows$horse_id == \"GER43431\",])\n",
    "\n",
    "shows <- shows %>%\n",
    "  filter(!(!(position == \"RET\" | position == \"DSQ\" | position == \"WD\" | position == \"EL\") & is.na(score)))"
   ]
  },
  {
   "cell_type": "markdown",
   "metadata": {},
   "source": [
    "Finally, I am going to impute score values for the non-completion categories. I retain position, as number of non-completions could be an interesting feature. However, I believe that failing to complete a show due to elimination or disqualification should inevitably be detrimental to a combination's measure of success as they indicate that the combination performed poorly in that show. Retirement and withdrawal are slightly less clear, because they may not necessarily represent poor performance. For example, a rider may choose to retire when they realise they cannot beat the current leading score, but that doesn't necessarily mean their performance was bad, just not good enough to take home a trophy. Withdrawal may occur due to some irrelevant circumstances, such as illness or travel issues. \n",
    "\n",
    "Thus, I propose two crude imputations of these categories. 260 shows marked WD or RET will be assigned a score randomly drawn from a normal distribution (68.81511, 3.269806). The score shows are approximately normally distributed, so this distribution seems appropriate. I have overlayed this distribution (green) over the true distribution (black) in the graph below. Essentially, we are assuming that withdrawal or retirement means that a combination is less likely than normal to have achieved an especially high score, but on the whole their scores are similar to that of other shows. I choose to sample shows from a distribution rather than assign a single value, because I do not want to compromise the variance or normality of my data. \n",
    "\n",
    "Note that due to the random nature of the imputation generation, values may vary slightly in the html output. I immediately export all imputed data into new tables in `dressage.db`. "
   ]
  },
  {
   "cell_type": "code",
   "execution_count": 167,
   "metadata": {},
   "outputs": [
    {
     "name": "stderr",
     "output_type": "stream",
     "text": [
      "Warning message:\n",
      "\"Removed 373 rows containing non-finite values (stat_density).\""
     ]
    },
    {
     "data": {
      "text/html": [
       "<table>\n",
       "<thead><tr><th scope=col>location</th><th scope=col>event_type</th><th scope=col>comp_title</th><th scope=col>horse_id</th><th scope=col>dob</th><th scope=col>sex</th><th scope=col>rider_id</th><th scope=col>position</th><th scope=col>score</th><th scope=col>yob</th><th scope=col>show_id</th></tr></thead>\n",
       "<tbody>\n",
       "\t<tr><td>GER                                        </td><td>CDI4*                                      </td><td>GPS - Grand Prix Special                   </td><td>103HX90                                    </td><td>14/02/2006                                 </td><td>1                                          </td><td>10023552                                   </td><td>WD                                         </td><td>71.18227                                   </td><td>2006                                       </td><td>  98                                       </td></tr>\n",
       "\t<tr><td>NED                                        </td><td>CDI-W                                      </td><td>GP FS - Grand Prix Freestyle to Music      </td><td>GER45558                                   </td><td>21/04/2002                                 </td><td>1                                          </td><td>10012844                                   </td><td>RET                                        </td><td>74.15765                                   </td><td>2002                                       </td><td> 294                                       </td></tr>\n",
       "\t<tr><td>FRA                                        </td><td>CDI3*                                      </td><td>Grand Prix Special                         </td><td>104HK07                                    </td><td>15/05/2006                                 </td><td>0                                          </td><td>10029550                                   </td><td>RET                                        </td><td>66.78297                                   </td><td>2006                                       </td><td>1071                                       </td></tr>\n",
       "\t<tr><td>NED                                        </td><td>CDIO5*-NC                                  </td><td>Grand Prix                                 </td><td>104HK07                                    </td><td>15/05/2006                                 </td><td>0                                          </td><td>10029550                                   </td><td>WD                                         </td><td>71.11050                                   </td><td>2006                                       </td><td>1073                                       </td></tr>\n",
       "\t<tr><td>NED                                        </td><td>CDIY                                       </td><td>Y Ind - Young Riders Individual Competit...</td><td>105FU85                                    </td><td>17/05/2008                                 </td><td>1                                          </td><td>10066419                                   </td><td>RET                                        </td><td>71.34623                                   </td><td>2008                                       </td><td>1242                                       </td></tr>\n",
       "\t<tr><td>ESP                                        </td><td>CDI4*                                      </td><td>GPS - Grand Prix Special                   </td><td>103DW31                                    </td><td>01/01/2005                                 </td><td>1                                          </td><td>10040382                                   </td><td>WD                                         </td><td>73.18840                                   </td><td>2005                                       </td><td>1362                                       </td></tr>\n",
       "\t<tr><td>ESP                                        </td><td>CDI3*                                      </td><td>GP - Grand Prix                            </td><td>103DW31                                    </td><td>01/01/2005                                 </td><td>1                                          </td><td>10040382                                   </td><td>WD                                         </td><td>68.51519                                   </td><td>2005                                       </td><td>1368                                       </td></tr>\n",
       "\t<tr><td>NED                                        </td><td>CDI3*                                      </td><td>GP - Grand Prix                            </td><td>103VM89                                    </td><td>03/04/2004                                 </td><td>1                                          </td><td>10034410                                   </td><td>RET                                        </td><td>75.89667                                   </td><td>2004                                       </td><td>1418                                       </td></tr>\n",
       "\t<tr><td>NED                                        </td><td>CDI3*                                      </td><td>GP - Grand Prix                            </td><td>103VM89                                    </td><td>03/04/2004                                 </td><td>1                                          </td><td>10034410                                   </td><td>RET                                        </td><td>69.01703                                   </td><td>2004                                       </td><td>1433                                       </td></tr>\n",
       "\t<tr><td>NED                                        </td><td>CDI3*                                      </td><td>GP - Grand Prix                            </td><td>103VM89                                    </td><td>03/04/2004                                 </td><td>1                                          </td><td>10034410                                   </td><td>RET                                        </td><td>64.79355                                   </td><td>2004                                       </td><td>1437                                       </td></tr>\n",
       "\t<tr><td>NED                                        </td><td>CDI3*                                      </td><td>GP - Grand Prix                            </td><td>103VM89                                    </td><td>03/04/2004                                 </td><td>1                                          </td><td>10034410                                   </td><td>RET                                        </td><td>70.10154                                   </td><td>2004                                       </td><td>1464                                       </td></tr>\n",
       "\t<tr><td>NED                                        </td><td>CDI4*                                      </td><td>GPS - Grand Prix Special                   </td><td>103VM89                                    </td><td>03/04/2004                                 </td><td>1                                          </td><td>10034410                                   </td><td>RET                                        </td><td>67.14728                                   </td><td>2004                                       </td><td>1465                                       </td></tr>\n",
       "\t<tr><td>GER                                        </td><td>CDI4*                                      </td><td>GP - Grand Prix                            </td><td>103VQ51                                    </td><td>18/04/2007                                 </td><td>1                                          </td><td>10019463                                   </td><td>WD                                         </td><td>68.96170                                   </td><td>2007                                       </td><td>1497                                       </td></tr>\n",
       "\t<tr><td>GER                                        </td><td>CDI4*                                      </td><td>GP - Grand Prix                            </td><td>103RQ42                                    </td><td>01/05/2007                                 </td><td>1                                          </td><td>10103936                                   </td><td>RET                                        </td><td>70.09767                                   </td><td>2007                                       </td><td>1528                                       </td></tr>\n",
       "\t<tr><td>FRA                                        </td><td>CDI3*                                      </td><td>GP - Grand Prix                            </td><td>103RO36                                    </td><td>21/06/2006                                 </td><td>1                                          </td><td>10028962                                   </td><td>RET                                        </td><td>64.54968                                   </td><td>2006                                       </td><td>1584                                       </td></tr>\n",
       "\t<tr><td>GER                                        </td><td>CDI3*                                      </td><td>GPS - Grand Prix Special                   </td><td>103DG55                                    </td><td>05/04/2006                                 </td><td>1                                          </td><td>10073033                                   </td><td>RET                                        </td><td>68.17910                                   </td><td>2006                                       </td><td>1785                                       </td></tr>\n",
       "\t<tr><td>GER                                        </td><td>CDI1*                                      </td><td>Int I - Intermediate I                     </td><td>105JU17                                    </td><td>01/06/2009                                 </td><td>1                                          </td><td>10091877                                   </td><td>RET                                        </td><td>71.24763                                   </td><td>2009                                       </td><td>1882                                       </td></tr>\n",
       "\t<tr><td>ESP                                        </td><td>CDI-W                                      </td><td>GP FS - Grand Prix Freestyle to Music      </td><td>104QJ85                                    </td><td>12/06/2006                                 </td><td>1                                          </td><td>10011348                                   </td><td>RET                                        </td><td>71.48680                                   </td><td>2006                                       </td><td>1949                                       </td></tr>\n",
       "\t<tr><td>GBR                                        </td><td>CDI3*                                      </td><td>GP FS - Grand Prix Freestyle to Music      </td><td>104QJ85                                    </td><td>12/06/2006                                 </td><td>1                                          </td><td>10011348                                   </td><td>RET                                        </td><td>74.13898                                   </td><td>2006                                       </td><td>1953                                       </td></tr>\n",
       "\t<tr><td>GBR                                        </td><td>CDIO3*-NC                                  </td><td>GP FS - Grand Prix Freestyle to Music      </td><td>102YA19                                    </td><td>26/02/1999                                 </td><td>1                                          </td><td>10034877                                   </td><td>WD                                         </td><td>70.12200                                   </td><td>1999                                       </td><td>2187                                       </td></tr>\n",
       "\t<tr><td>GER                                        </td><td>CDI4*                                      </td><td>GP - Grand Prix                            </td><td>103GI17                                    </td><td>29/12/1999                                 </td><td>1                                          </td><td>10000517                                   </td><td>RET                                        </td><td>68.50803                                   </td><td>1999                                       </td><td>2194                                       </td></tr>\n",
       "\t<tr><td>DEN                                        </td><td>CDI-W                                      </td><td>REEM ACRA FEI WORLD CUP ™ DRESSAGE         </td><td>NED40937                                   </td><td>20/04/2002                                 </td><td>1                                          </td><td>10011472                                   </td><td>WD                                         </td><td>69.67681                                   </td><td>2002                                       </td><td>2244                                       </td></tr>\n",
       "\t<tr><td>FRA                                        </td><td>CDI3*                                      </td><td>GPS - Grand Prix Special                   </td><td>106IY53                                    </td><td>07/05/2009                                 </td><td>1                                          </td><td>10016382                                   </td><td>WD                                         </td><td>61.41414                                   </td><td>2009                                       </td><td>2413                                       </td></tr>\n",
       "\t<tr><td>USA                                        </td><td>CDIO3*-NC                                  </td><td>GPS - Grand Prix Special                   </td><td>104RQ40                                    </td><td>20/04/2004                                 </td><td>1                                          </td><td>10101183                                   </td><td>WD                                         </td><td>66.27863                                   </td><td>2004                                       </td><td>2527                                       </td></tr>\n",
       "\t<tr><td>USA                                        </td><td>CDI3*                                      </td><td>GPS - Grand Prix Special                   </td><td>104RQ40                                    </td><td>20/04/2004                                 </td><td>1                                          </td><td>10101183                                   </td><td>WD                                         </td><td>71.71446                                   </td><td>2004                                       </td><td>2531                                       </td></tr>\n",
       "\t<tr><td>GER                                        </td><td>CDIO5*-NC                                  </td><td>GPS - Grand Prix Special                   </td><td>103IA62                                    </td><td>23/03/2005                                 </td><td>1                                          </td><td>10003276                                   </td><td>WD                                         </td><td>69.65276                                   </td><td>2005                                       </td><td>2623                                       </td></tr>\n",
       "\t<tr><td>FRA                                        </td><td>CDI3*                                      </td><td>GP FS - Grand Prix Freestyle to Music      </td><td>104CZ13                                    </td><td>03/05/2003                                 </td><td>1                                          </td><td>10074623                                   </td><td>RET                                        </td><td>67.36798                                   </td><td>2003                                       </td><td>2654                                       </td></tr>\n",
       "\t<tr><td>ITA                                        </td><td>CH-EU-U25-D                                </td><td>GP FS - Grand Prix Freestyle to Music      </td><td>103IB40                                    </td><td>24/04/2006                                 </td><td>1                                          </td><td>10035555                                   </td><td>RET                                        </td><td>72.18049                                   </td><td>2006                                       </td><td>2694                                       </td></tr>\n",
       "\t<tr><td>ESP                                        </td><td>CDI3*                                      </td><td>GP FS - Grand Prix Freestyle to Music      </td><td>103LZ60                                    </td><td>20/04/2007                                 </td><td>1                                          </td><td>10022363                                   </td><td>WD                                         </td><td>67.36823                                   </td><td>2007                                       </td><td>2815                                       </td></tr>\n",
       "\t<tr><td>USA                                        </td><td>CDIU25                                     </td><td>FEI Grand Prix Freestyle 16-25 CDIU25      </td><td>104FE38                                    </td><td>22/04/2006                                 </td><td>1                                          </td><td>10003267                                   </td><td>WD                                         </td><td>73.96087                                   </td><td>2006                                       </td><td>2877                                       </td></tr>\n",
       "\t<tr><td>...</td><td>...</td><td>...</td><td>...</td><td>...</td><td>...</td><td>...</td><td>...</td><td>...</td><td>...</td><td>...</td></tr>\n",
       "\t<tr><td>USA                                        </td><td>CDIU25                                     </td><td>FEI Grand Prix Freestyle 16-25 CDIU25      </td><td>USA41197                                   </td><td>01/01/1999                                 </td><td>1                                          </td><td>10046212                                   </td><td>WD                                         </td><td>67.18344                                   </td><td>1999                                       </td><td>16410                                      </td></tr>\n",
       "\t<tr><td>USA                                        </td><td>CDI3*                                      </td><td>GPS - Grand Prix Special                   </td><td>USA41197                                   </td><td>01/01/1999                                 </td><td>1                                          </td><td>10025334                                   </td><td>WD                                         </td><td>61.01055                                   </td><td>1999                                       </td><td>16426                                      </td></tr>\n",
       "\t<tr><td>USA                                        </td><td>CDI3*                                      </td><td>GP - Grand Prix                            </td><td>USA41197                                   </td><td>01/01/1999                                 </td><td>1                                          </td><td>10025334                                   </td><td>WD                                         </td><td>72.63903                                   </td><td>1999                                       </td><td>16427                                      </td></tr>\n",
       "\t<tr><td>USA                                        </td><td>CDI3*                                      </td><td>GP FS - Grand Prix Freestyle to Music      </td><td>USA41197                                   </td><td>01/01/1999                                 </td><td>1                                          </td><td>10025334                                   </td><td>WD                                         </td><td>65.92370                                   </td><td>1999                                       </td><td>16440                                      </td></tr>\n",
       "\t<tr><td>USA                                        </td><td>CDI3*                                      </td><td>GP - Grand Prix                            </td><td>USA41197                                   </td><td>01/01/1999                                 </td><td>1                                          </td><td>10025334                                   </td><td>WD                                         </td><td>68.66110                                   </td><td>1999                                       </td><td>16441                                      </td></tr>\n",
       "\t<tr><td>USA                                        </td><td>CDI3*                                      </td><td>FEI Grand Prix Special CDI3*               </td><td>102QS73                                    </td><td>21/05/2004                                 </td><td>1                                          </td><td>10000051                                   </td><td>RET                                        </td><td>70.45535                                   </td><td>2004                                       </td><td>16579                                      </td></tr>\n",
       "\t<tr><td>USA                                        </td><td>CDI-W                                      </td><td>FEI Grand Prix Special CDIW                </td><td>102QS73                                    </td><td>21/05/2004                                 </td><td>1                                          </td><td>10000051                                   </td><td>WD                                         </td><td>67.26752                                   </td><td>2004                                       </td><td>16581                                      </td></tr>\n",
       "\t<tr><td>FIN                                        </td><td>CDI3*                                      </td><td>Grand Prix                                 </td><td>105OL40                                    </td><td>11/05/2008                                 </td><td>1                                          </td><td>10003234                                   </td><td>RET                                        </td><td>61.42372                                   </td><td>2008                                       </td><td>16696                                      </td></tr>\n",
       "\t<tr><td>DEN                                        </td><td>CDI3*                                      </td><td>Int I FS - Intermediate I                  </td><td>104ZN16                                    </td><td>15/05/2007                                 </td><td>1                                          </td><td>10039672                                   </td><td>WD                                         </td><td>69.85938                                   </td><td>2007                                       </td><td>16782                                      </td></tr>\n",
       "\t<tr><td>GBR                                        </td><td>CDI3*                                      </td><td>GPS - Grand Prix Special                   </td><td>104BG28                                    </td><td>20/02/2008                                 </td><td>1                                          </td><td>10083180                                   </td><td>RET                                        </td><td>70.55404                                   </td><td>2008                                       </td><td>16895                                      </td></tr>\n",
       "\t<tr><td>NED                                        </td><td>CDI3*                                      </td><td>GP - Grand Prix                            </td><td>103XJ10                                    </td><td>01/05/2005                                 </td><td>0                                          </td><td>10003202                                   </td><td>RET                                        </td><td>68.69603                                   </td><td>2005                                       </td><td>16996                                      </td></tr>\n",
       "\t<tr><td>FRA                                        </td><td>CDI3*                                      </td><td>GPS - Grand Prix Special                   </td><td>103XJ10                                    </td><td>01/05/2005                                 </td><td>0                                          </td><td>10003202                                   </td><td>WD                                         </td><td>66.34982                                   </td><td>2005                                       </td><td>17015                                      </td></tr>\n",
       "\t<tr><td>HUN                                        </td><td>CDI3*                                      </td><td>Grand Prix Special                         </td><td>105EO96                                    </td><td>04/05/2005                                 </td><td>1                                          </td><td>10023549                                   </td><td>RET                                        </td><td>67.09229                                   </td><td>2005                                       </td><td>17035                                      </td></tr>\n",
       "\t<tr><td>GER                                        </td><td>CDI2*                                      </td><td>Intermediate A                             </td><td>105EO96                                    </td><td>04/05/2005                                 </td><td>1                                          </td><td>10023549                                   </td><td>RET                                        </td><td>66.05573                                   </td><td>2005                                       </td><td>17038                                      </td></tr>\n",
       "\t<tr><td>USA                                        </td><td>CDI3*                                      </td><td>GP - Grand Prix                            </td><td>USA42245                                   </td><td>21/03/2000                                 </td><td>0                                          </td><td>10003277                                   </td><td>RET                                        </td><td>65.55976                                   </td><td>2000                                       </td><td>17135                                      </td></tr>\n",
       "\t<tr><td>USA                                        </td><td>CDI-W                                      </td><td>FEI Grand Prix                             </td><td>USA42245                                   </td><td>21/03/2000                                 </td><td>0                                          </td><td>10003277                                   </td><td>RET                                        </td><td>64.34508                                   </td><td>2000                                       </td><td>17158                                      </td></tr>\n",
       "\t<tr><td>GER                                        </td><td>CDI4*                                      </td><td>GP - Grand Prix                            </td><td>104ZW45                                    </td><td>04/03/2009                                 </td><td>1                                          </td><td>10003128                                   </td><td>RET                                        </td><td>70.49981                                   </td><td>2009                                       </td><td>17189                                      </td></tr>\n",
       "\t<tr><td>GER                                        </td><td>CDI3*                                      </td><td>GPS - Grand Prix Special                   </td><td>104ZW45                                    </td><td>04/03/2009                                 </td><td>1                                          </td><td>10003128                                   </td><td>RET                                        </td><td>67.93449                                   </td><td>2009                                       </td><td>17192                                      </td></tr>\n",
       "\t<tr><td>NED                                        </td><td>CDI4*                                      </td><td>GPS - Grand Prix Special                   </td><td>104KM68                                    </td><td>27/01/2005                                 </td><td>1                                          </td><td>10058623                                   </td><td>RET                                        </td><td>66.66741                                   </td><td>2005                                       </td><td>17208                                      </td></tr>\n",
       "\t<tr><td>FRA                                        </td><td>CDI3*                                      </td><td>Int I FS - Intermediate I Freestyle to M...</td><td>104KM68                                    </td><td>27/01/2005                                 </td><td>1                                          </td><td>10058623                                   </td><td>WD                                         </td><td>62.69043                                   </td><td>2005                                       </td><td>17225                                      </td></tr>\n",
       "\t<tr><td>SWE                                        </td><td>CDI-W                                      </td><td>GP FS - Grand Prix Freestyle to Music      </td><td>102YN67                                    </td><td>26/04/2001                                 </td><td>1                                          </td><td>10010680                                   </td><td>RET                                        </td><td>69.57410                                   </td><td>2001                                       </td><td>17303                                      </td></tr>\n",
       "\t<tr><td>ESP                                        </td><td>CDI3*                                      </td><td>GP FS - Grand Prix Freestyle to Music      </td><td>102ZG28                                    </td><td>25/03/2000                                 </td><td>0                                          </td><td>10027033                                   </td><td>WD                                         </td><td>68.12610                                   </td><td>2000                                       </td><td>17449                                      </td></tr>\n",
       "\t<tr><td>ESP                                        </td><td>CDI3*                                      </td><td>GP Cons - Grand Prix Consolation           </td><td>102ZG28                                    </td><td>25/03/2000                                 </td><td>0                                          </td><td>10027033                                   </td><td>WD                                         </td><td>70.61808                                   </td><td>2000                                       </td><td>17450                                      </td></tr>\n",
       "\t<tr><td>FRA                                        </td><td>CDI3*                                      </td><td>GP Cons - Grand Prix Consolation           </td><td>102ZG28                                    </td><td>25/03/2000                                 </td><td>0                                          </td><td>10003377                                   </td><td>WD                                         </td><td>68.29010                                   </td><td>2000                                       </td><td>17486                                      </td></tr>\n",
       "\t<tr><td>USA                                        </td><td>CDI3*                                      </td><td>GP - Grand Prix                            </td><td>NED41117                                   </td><td>02/05/1999                                 </td><td>1                                          </td><td>10070065                                   </td><td>WD                                         </td><td>65.75675                                   </td><td>1999                                       </td><td>17526                                      </td></tr>\n",
       "\t<tr><td>FRA                                        </td><td>CDI3*                                      </td><td>GP FS - Grand Prix Freestyle to Music      </td><td>102VN90                                    </td><td>20/07/2003                                 </td><td>1                                          </td><td>10037234                                   </td><td>WD                                         </td><td>66.82981                                   </td><td>2003                                       </td><td>17769                                      </td></tr>\n",
       "\t<tr><td>USA                                        </td><td>CDIAm                                      </td><td>Int II - Intermediate II                   </td><td>103WD75                                    </td><td>21/03/2008                                 </td><td>1                                          </td><td>10162483                                   </td><td>WD                                         </td><td>71.17282                                   </td><td>2008                                       </td><td>17803                                      </td></tr>\n",
       "\t<tr><td>HUN                                        </td><td>CDI3*                                      </td><td>GP - Grand Prix                            </td><td>104TC92                                    </td><td>18/04/2006                                 </td><td>0                                          </td><td>10028962                                   </td><td>RET                                        </td><td>79.35271                                   </td><td>2006                                       </td><td>17884                                      </td></tr>\n",
       "\t<tr><td>BEL                                        </td><td>CDI3*                                      </td><td>GP - Grand Prix                            </td><td>104TC92                                    </td><td>18/04/2006                                 </td><td>0                                          </td><td>10028962                                   </td><td>RET                                        </td><td>66.67843                                   </td><td>2006                                       </td><td>17886                                      </td></tr>\n",
       "\t<tr><td>FRA                                        </td><td>CDI3*                                      </td><td>Int I FS - Intermediate I Freestyle to M...</td><td>104AL35                                    </td><td>05/06/2006                                 </td><td>1                                          </td><td>10080271                                   </td><td>WD                                         </td><td>73.82446                                   </td><td>2006                                       </td><td>17931                                      </td></tr>\n",
       "</tbody>\n",
       "</table>\n"
      ],
      "text/latex": [
       "\\begin{tabular}{r|lllllllllll}\n",
       " location & event\\_type & comp\\_title & horse\\_id & dob & sex & rider\\_id & position & score & yob & show\\_id\\\\\n",
       "\\hline\n",
       "\t GER                                         & CDI4*                                       & GPS - Grand Prix Special                    & 103HX90                                     & 14/02/2006                                  & 1                                           & 10023552                                    & WD                                          & 71.18227                                    & 2006                                        &   98                                       \\\\\n",
       "\t NED                                         & CDI-W                                       & GP FS - Grand Prix Freestyle to Music       & GER45558                                    & 21/04/2002                                  & 1                                           & 10012844                                    & RET                                         & 74.15765                                    & 2002                                        &  294                                       \\\\\n",
       "\t FRA                                         & CDI3*                                       & Grand Prix Special                          & 104HK07                                     & 15/05/2006                                  & 0                                           & 10029550                                    & RET                                         & 66.78297                                    & 2006                                        & 1071                                       \\\\\n",
       "\t NED                                         & CDIO5*-NC                                   & Grand Prix                                  & 104HK07                                     & 15/05/2006                                  & 0                                           & 10029550                                    & WD                                          & 71.11050                                    & 2006                                        & 1073                                       \\\\\n",
       "\t NED                                         & CDIY                                        & Y Ind - Young Riders Individual Competit... & 105FU85                                     & 17/05/2008                                  & 1                                           & 10066419                                    & RET                                         & 71.34623                                    & 2008                                        & 1242                                       \\\\\n",
       "\t ESP                                         & CDI4*                                       & GPS - Grand Prix Special                    & 103DW31                                     & 01/01/2005                                  & 1                                           & 10040382                                    & WD                                          & 73.18840                                    & 2005                                        & 1362                                       \\\\\n",
       "\t ESP                                         & CDI3*                                       & GP - Grand Prix                             & 103DW31                                     & 01/01/2005                                  & 1                                           & 10040382                                    & WD                                          & 68.51519                                    & 2005                                        & 1368                                       \\\\\n",
       "\t NED                                         & CDI3*                                       & GP - Grand Prix                             & 103VM89                                     & 03/04/2004                                  & 1                                           & 10034410                                    & RET                                         & 75.89667                                    & 2004                                        & 1418                                       \\\\\n",
       "\t NED                                         & CDI3*                                       & GP - Grand Prix                             & 103VM89                                     & 03/04/2004                                  & 1                                           & 10034410                                    & RET                                         & 69.01703                                    & 2004                                        & 1433                                       \\\\\n",
       "\t NED                                         & CDI3*                                       & GP - Grand Prix                             & 103VM89                                     & 03/04/2004                                  & 1                                           & 10034410                                    & RET                                         & 64.79355                                    & 2004                                        & 1437                                       \\\\\n",
       "\t NED                                         & CDI3*                                       & GP - Grand Prix                             & 103VM89                                     & 03/04/2004                                  & 1                                           & 10034410                                    & RET                                         & 70.10154                                    & 2004                                        & 1464                                       \\\\\n",
       "\t NED                                         & CDI4*                                       & GPS - Grand Prix Special                    & 103VM89                                     & 03/04/2004                                  & 1                                           & 10034410                                    & RET                                         & 67.14728                                    & 2004                                        & 1465                                       \\\\\n",
       "\t GER                                         & CDI4*                                       & GP - Grand Prix                             & 103VQ51                                     & 18/04/2007                                  & 1                                           & 10019463                                    & WD                                          & 68.96170                                    & 2007                                        & 1497                                       \\\\\n",
       "\t GER                                         & CDI4*                                       & GP - Grand Prix                             & 103RQ42                                     & 01/05/2007                                  & 1                                           & 10103936                                    & RET                                         & 70.09767                                    & 2007                                        & 1528                                       \\\\\n",
       "\t FRA                                         & CDI3*                                       & GP - Grand Prix                             & 103RO36                                     & 21/06/2006                                  & 1                                           & 10028962                                    & RET                                         & 64.54968                                    & 2006                                        & 1584                                       \\\\\n",
       "\t GER                                         & CDI3*                                       & GPS - Grand Prix Special                    & 103DG55                                     & 05/04/2006                                  & 1                                           & 10073033                                    & RET                                         & 68.17910                                    & 2006                                        & 1785                                       \\\\\n",
       "\t GER                                         & CDI1*                                       & Int I - Intermediate I                      & 105JU17                                     & 01/06/2009                                  & 1                                           & 10091877                                    & RET                                         & 71.24763                                    & 2009                                        & 1882                                       \\\\\n",
       "\t ESP                                         & CDI-W                                       & GP FS - Grand Prix Freestyle to Music       & 104QJ85                                     & 12/06/2006                                  & 1                                           & 10011348                                    & RET                                         & 71.48680                                    & 2006                                        & 1949                                       \\\\\n",
       "\t GBR                                         & CDI3*                                       & GP FS - Grand Prix Freestyle to Music       & 104QJ85                                     & 12/06/2006                                  & 1                                           & 10011348                                    & RET                                         & 74.13898                                    & 2006                                        & 1953                                       \\\\\n",
       "\t GBR                                         & CDIO3*-NC                                   & GP FS - Grand Prix Freestyle to Music       & 102YA19                                     & 26/02/1999                                  & 1                                           & 10034877                                    & WD                                          & 70.12200                                    & 1999                                        & 2187                                       \\\\\n",
       "\t GER                                         & CDI4*                                       & GP - Grand Prix                             & 103GI17                                     & 29/12/1999                                  & 1                                           & 10000517                                    & RET                                         & 68.50803                                    & 1999                                        & 2194                                       \\\\\n",
       "\t DEN                                         & CDI-W                                       & REEM ACRA FEI WORLD CUP ™ DRESSAGE          & NED40937                                    & 20/04/2002                                  & 1                                           & 10011472                                    & WD                                          & 69.67681                                    & 2002                                        & 2244                                       \\\\\n",
       "\t FRA                                         & CDI3*                                       & GPS - Grand Prix Special                    & 106IY53                                     & 07/05/2009                                  & 1                                           & 10016382                                    & WD                                          & 61.41414                                    & 2009                                        & 2413                                       \\\\\n",
       "\t USA                                         & CDIO3*-NC                                   & GPS - Grand Prix Special                    & 104RQ40                                     & 20/04/2004                                  & 1                                           & 10101183                                    & WD                                          & 66.27863                                    & 2004                                        & 2527                                       \\\\\n",
       "\t USA                                         & CDI3*                                       & GPS - Grand Prix Special                    & 104RQ40                                     & 20/04/2004                                  & 1                                           & 10101183                                    & WD                                          & 71.71446                                    & 2004                                        & 2531                                       \\\\\n",
       "\t GER                                         & CDIO5*-NC                                   & GPS - Grand Prix Special                    & 103IA62                                     & 23/03/2005                                  & 1                                           & 10003276                                    & WD                                          & 69.65276                                    & 2005                                        & 2623                                       \\\\\n",
       "\t FRA                                         & CDI3*                                       & GP FS - Grand Prix Freestyle to Music       & 104CZ13                                     & 03/05/2003                                  & 1                                           & 10074623                                    & RET                                         & 67.36798                                    & 2003                                        & 2654                                       \\\\\n",
       "\t ITA                                         & CH-EU-U25-D                                 & GP FS - Grand Prix Freestyle to Music       & 103IB40                                     & 24/04/2006                                  & 1                                           & 10035555                                    & RET                                         & 72.18049                                    & 2006                                        & 2694                                       \\\\\n",
       "\t ESP                                         & CDI3*                                       & GP FS - Grand Prix Freestyle to Music       & 103LZ60                                     & 20/04/2007                                  & 1                                           & 10022363                                    & WD                                          & 67.36823                                    & 2007                                        & 2815                                       \\\\\n",
       "\t USA                                         & CDIU25                                      & FEI Grand Prix Freestyle 16-25 CDIU25       & 104FE38                                     & 22/04/2006                                  & 1                                           & 10003267                                    & WD                                          & 73.96087                                    & 2006                                        & 2877                                       \\\\\n",
       "\t ... & ... & ... & ... & ... & ... & ... & ... & ... & ... & ...\\\\\n",
       "\t USA                                         & CDIU25                                      & FEI Grand Prix Freestyle 16-25 CDIU25       & USA41197                                    & 01/01/1999                                  & 1                                           & 10046212                                    & WD                                          & 67.18344                                    & 1999                                        & 16410                                      \\\\\n",
       "\t USA                                         & CDI3*                                       & GPS - Grand Prix Special                    & USA41197                                    & 01/01/1999                                  & 1                                           & 10025334                                    & WD                                          & 61.01055                                    & 1999                                        & 16426                                      \\\\\n",
       "\t USA                                         & CDI3*                                       & GP - Grand Prix                             & USA41197                                    & 01/01/1999                                  & 1                                           & 10025334                                    & WD                                          & 72.63903                                    & 1999                                        & 16427                                      \\\\\n",
       "\t USA                                         & CDI3*                                       & GP FS - Grand Prix Freestyle to Music       & USA41197                                    & 01/01/1999                                  & 1                                           & 10025334                                    & WD                                          & 65.92370                                    & 1999                                        & 16440                                      \\\\\n",
       "\t USA                                         & CDI3*                                       & GP - Grand Prix                             & USA41197                                    & 01/01/1999                                  & 1                                           & 10025334                                    & WD                                          & 68.66110                                    & 1999                                        & 16441                                      \\\\\n",
       "\t USA                                         & CDI3*                                       & FEI Grand Prix Special CDI3*                & 102QS73                                     & 21/05/2004                                  & 1                                           & 10000051                                    & RET                                         & 70.45535                                    & 2004                                        & 16579                                      \\\\\n",
       "\t USA                                         & CDI-W                                       & FEI Grand Prix Special CDIW                 & 102QS73                                     & 21/05/2004                                  & 1                                           & 10000051                                    & WD                                          & 67.26752                                    & 2004                                        & 16581                                      \\\\\n",
       "\t FIN                                         & CDI3*                                       & Grand Prix                                  & 105OL40                                     & 11/05/2008                                  & 1                                           & 10003234                                    & RET                                         & 61.42372                                    & 2008                                        & 16696                                      \\\\\n",
       "\t DEN                                         & CDI3*                                       & Int I FS - Intermediate I                   & 104ZN16                                     & 15/05/2007                                  & 1                                           & 10039672                                    & WD                                          & 69.85938                                    & 2007                                        & 16782                                      \\\\\n",
       "\t GBR                                         & CDI3*                                       & GPS - Grand Prix Special                    & 104BG28                                     & 20/02/2008                                  & 1                                           & 10083180                                    & RET                                         & 70.55404                                    & 2008                                        & 16895                                      \\\\\n",
       "\t NED                                         & CDI3*                                       & GP - Grand Prix                             & 103XJ10                                     & 01/05/2005                                  & 0                                           & 10003202                                    & RET                                         & 68.69603                                    & 2005                                        & 16996                                      \\\\\n",
       "\t FRA                                         & CDI3*                                       & GPS - Grand Prix Special                    & 103XJ10                                     & 01/05/2005                                  & 0                                           & 10003202                                    & WD                                          & 66.34982                                    & 2005                                        & 17015                                      \\\\\n",
       "\t HUN                                         & CDI3*                                       & Grand Prix Special                          & 105EO96                                     & 04/05/2005                                  & 1                                           & 10023549                                    & RET                                         & 67.09229                                    & 2005                                        & 17035                                      \\\\\n",
       "\t GER                                         & CDI2*                                       & Intermediate A                              & 105EO96                                     & 04/05/2005                                  & 1                                           & 10023549                                    & RET                                         & 66.05573                                    & 2005                                        & 17038                                      \\\\\n",
       "\t USA                                         & CDI3*                                       & GP - Grand Prix                             & USA42245                                    & 21/03/2000                                  & 0                                           & 10003277                                    & RET                                         & 65.55976                                    & 2000                                        & 17135                                      \\\\\n",
       "\t USA                                         & CDI-W                                       & FEI Grand Prix                              & USA42245                                    & 21/03/2000                                  & 0                                           & 10003277                                    & RET                                         & 64.34508                                    & 2000                                        & 17158                                      \\\\\n",
       "\t GER                                         & CDI4*                                       & GP - Grand Prix                             & 104ZW45                                     & 04/03/2009                                  & 1                                           & 10003128                                    & RET                                         & 70.49981                                    & 2009                                        & 17189                                      \\\\\n",
       "\t GER                                         & CDI3*                                       & GPS - Grand Prix Special                    & 104ZW45                                     & 04/03/2009                                  & 1                                           & 10003128                                    & RET                                         & 67.93449                                    & 2009                                        & 17192                                      \\\\\n",
       "\t NED                                         & CDI4*                                       & GPS - Grand Prix Special                    & 104KM68                                     & 27/01/2005                                  & 1                                           & 10058623                                    & RET                                         & 66.66741                                    & 2005                                        & 17208                                      \\\\\n",
       "\t FRA                                         & CDI3*                                       & Int I FS - Intermediate I Freestyle to M... & 104KM68                                     & 27/01/2005                                  & 1                                           & 10058623                                    & WD                                          & 62.69043                                    & 2005                                        & 17225                                      \\\\\n",
       "\t SWE                                         & CDI-W                                       & GP FS - Grand Prix Freestyle to Music       & 102YN67                                     & 26/04/2001                                  & 1                                           & 10010680                                    & RET                                         & 69.57410                                    & 2001                                        & 17303                                      \\\\\n",
       "\t ESP                                         & CDI3*                                       & GP FS - Grand Prix Freestyle to Music       & 102ZG28                                     & 25/03/2000                                  & 0                                           & 10027033                                    & WD                                          & 68.12610                                    & 2000                                        & 17449                                      \\\\\n",
       "\t ESP                                         & CDI3*                                       & GP Cons - Grand Prix Consolation            & 102ZG28                                     & 25/03/2000                                  & 0                                           & 10027033                                    & WD                                          & 70.61808                                    & 2000                                        & 17450                                      \\\\\n",
       "\t FRA                                         & CDI3*                                       & GP Cons - Grand Prix Consolation            & 102ZG28                                     & 25/03/2000                                  & 0                                           & 10003377                                    & WD                                          & 68.29010                                    & 2000                                        & 17486                                      \\\\\n",
       "\t USA                                         & CDI3*                                       & GP - Grand Prix                             & NED41117                                    & 02/05/1999                                  & 1                                           & 10070065                                    & WD                                          & 65.75675                                    & 1999                                        & 17526                                      \\\\\n",
       "\t FRA                                         & CDI3*                                       & GP FS - Grand Prix Freestyle to Music       & 102VN90                                     & 20/07/2003                                  & 1                                           & 10037234                                    & WD                                          & 66.82981                                    & 2003                                        & 17769                                      \\\\\n",
       "\t USA                                         & CDIAm                                       & Int II - Intermediate II                    & 103WD75                                     & 21/03/2008                                  & 1                                           & 10162483                                    & WD                                          & 71.17282                                    & 2008                                        & 17803                                      \\\\\n",
       "\t HUN                                         & CDI3*                                       & GP - Grand Prix                             & 104TC92                                     & 18/04/2006                                  & 0                                           & 10028962                                    & RET                                         & 79.35271                                    & 2006                                        & 17884                                      \\\\\n",
       "\t BEL                                         & CDI3*                                       & GP - Grand Prix                             & 104TC92                                     & 18/04/2006                                  & 0                                           & 10028962                                    & RET                                         & 66.67843                                    & 2006                                        & 17886                                      \\\\\n",
       "\t FRA                                         & CDI3*                                       & Int I FS - Intermediate I Freestyle to M... & 104AL35                                     & 05/06/2006                                  & 1                                           & 10080271                                    & WD                                          & 73.82446                                    & 2006                                        & 17931                                      \\\\\n",
       "\\end{tabular}\n"
      ],
      "text/markdown": [
       "\n",
       "| location | event_type | comp_title | horse_id | dob | sex | rider_id | position | score | yob | show_id |\n",
       "|---|---|---|---|---|---|---|---|---|---|---|\n",
       "| GER                                         | CDI4*                                       | GPS - Grand Prix Special                    | 103HX90                                     | 14/02/2006                                  | 1                                           | 10023552                                    | WD                                          | 71.18227                                    | 2006                                        |   98                                        |\n",
       "| NED                                         | CDI-W                                       | GP FS - Grand Prix Freestyle to Music       | GER45558                                    | 21/04/2002                                  | 1                                           | 10012844                                    | RET                                         | 74.15765                                    | 2002                                        |  294                                        |\n",
       "| FRA                                         | CDI3*                                       | Grand Prix Special                          | 104HK07                                     | 15/05/2006                                  | 0                                           | 10029550                                    | RET                                         | 66.78297                                    | 2006                                        | 1071                                        |\n",
       "| NED                                         | CDIO5*-NC                                   | Grand Prix                                  | 104HK07                                     | 15/05/2006                                  | 0                                           | 10029550                                    | WD                                          | 71.11050                                    | 2006                                        | 1073                                        |\n",
       "| NED                                         | CDIY                                        | Y Ind - Young Riders Individual Competit... | 105FU85                                     | 17/05/2008                                  | 1                                           | 10066419                                    | RET                                         | 71.34623                                    | 2008                                        | 1242                                        |\n",
       "| ESP                                         | CDI4*                                       | GPS - Grand Prix Special                    | 103DW31                                     | 01/01/2005                                  | 1                                           | 10040382                                    | WD                                          | 73.18840                                    | 2005                                        | 1362                                        |\n",
       "| ESP                                         | CDI3*                                       | GP - Grand Prix                             | 103DW31                                     | 01/01/2005                                  | 1                                           | 10040382                                    | WD                                          | 68.51519                                    | 2005                                        | 1368                                        |\n",
       "| NED                                         | CDI3*                                       | GP - Grand Prix                             | 103VM89                                     | 03/04/2004                                  | 1                                           | 10034410                                    | RET                                         | 75.89667                                    | 2004                                        | 1418                                        |\n",
       "| NED                                         | CDI3*                                       | GP - Grand Prix                             | 103VM89                                     | 03/04/2004                                  | 1                                           | 10034410                                    | RET                                         | 69.01703                                    | 2004                                        | 1433                                        |\n",
       "| NED                                         | CDI3*                                       | GP - Grand Prix                             | 103VM89                                     | 03/04/2004                                  | 1                                           | 10034410                                    | RET                                         | 64.79355                                    | 2004                                        | 1437                                        |\n",
       "| NED                                         | CDI3*                                       | GP - Grand Prix                             | 103VM89                                     | 03/04/2004                                  | 1                                           | 10034410                                    | RET                                         | 70.10154                                    | 2004                                        | 1464                                        |\n",
       "| NED                                         | CDI4*                                       | GPS - Grand Prix Special                    | 103VM89                                     | 03/04/2004                                  | 1                                           | 10034410                                    | RET                                         | 67.14728                                    | 2004                                        | 1465                                        |\n",
       "| GER                                         | CDI4*                                       | GP - Grand Prix                             | 103VQ51                                     | 18/04/2007                                  | 1                                           | 10019463                                    | WD                                          | 68.96170                                    | 2007                                        | 1497                                        |\n",
       "| GER                                         | CDI4*                                       | GP - Grand Prix                             | 103RQ42                                     | 01/05/2007                                  | 1                                           | 10103936                                    | RET                                         | 70.09767                                    | 2007                                        | 1528                                        |\n",
       "| FRA                                         | CDI3*                                       | GP - Grand Prix                             | 103RO36                                     | 21/06/2006                                  | 1                                           | 10028962                                    | RET                                         | 64.54968                                    | 2006                                        | 1584                                        |\n",
       "| GER                                         | CDI3*                                       | GPS - Grand Prix Special                    | 103DG55                                     | 05/04/2006                                  | 1                                           | 10073033                                    | RET                                         | 68.17910                                    | 2006                                        | 1785                                        |\n",
       "| GER                                         | CDI1*                                       | Int I - Intermediate I                      | 105JU17                                     | 01/06/2009                                  | 1                                           | 10091877                                    | RET                                         | 71.24763                                    | 2009                                        | 1882                                        |\n",
       "| ESP                                         | CDI-W                                       | GP FS - Grand Prix Freestyle to Music       | 104QJ85                                     | 12/06/2006                                  | 1                                           | 10011348                                    | RET                                         | 71.48680                                    | 2006                                        | 1949                                        |\n",
       "| GBR                                         | CDI3*                                       | GP FS - Grand Prix Freestyle to Music       | 104QJ85                                     | 12/06/2006                                  | 1                                           | 10011348                                    | RET                                         | 74.13898                                    | 2006                                        | 1953                                        |\n",
       "| GBR                                         | CDIO3*-NC                                   | GP FS - Grand Prix Freestyle to Music       | 102YA19                                     | 26/02/1999                                  | 1                                           | 10034877                                    | WD                                          | 70.12200                                    | 1999                                        | 2187                                        |\n",
       "| GER                                         | CDI4*                                       | GP - Grand Prix                             | 103GI17                                     | 29/12/1999                                  | 1                                           | 10000517                                    | RET                                         | 68.50803                                    | 1999                                        | 2194                                        |\n",
       "| DEN                                         | CDI-W                                       | REEM ACRA FEI WORLD CUP ™ DRESSAGE          | NED40937                                    | 20/04/2002                                  | 1                                           | 10011472                                    | WD                                          | 69.67681                                    | 2002                                        | 2244                                        |\n",
       "| FRA                                         | CDI3*                                       | GPS - Grand Prix Special                    | 106IY53                                     | 07/05/2009                                  | 1                                           | 10016382                                    | WD                                          | 61.41414                                    | 2009                                        | 2413                                        |\n",
       "| USA                                         | CDIO3*-NC                                   | GPS - Grand Prix Special                    | 104RQ40                                     | 20/04/2004                                  | 1                                           | 10101183                                    | WD                                          | 66.27863                                    | 2004                                        | 2527                                        |\n",
       "| USA                                         | CDI3*                                       | GPS - Grand Prix Special                    | 104RQ40                                     | 20/04/2004                                  | 1                                           | 10101183                                    | WD                                          | 71.71446                                    | 2004                                        | 2531                                        |\n",
       "| GER                                         | CDIO5*-NC                                   | GPS - Grand Prix Special                    | 103IA62                                     | 23/03/2005                                  | 1                                           | 10003276                                    | WD                                          | 69.65276                                    | 2005                                        | 2623                                        |\n",
       "| FRA                                         | CDI3*                                       | GP FS - Grand Prix Freestyle to Music       | 104CZ13                                     | 03/05/2003                                  | 1                                           | 10074623                                    | RET                                         | 67.36798                                    | 2003                                        | 2654                                        |\n",
       "| ITA                                         | CH-EU-U25-D                                 | GP FS - Grand Prix Freestyle to Music       | 103IB40                                     | 24/04/2006                                  | 1                                           | 10035555                                    | RET                                         | 72.18049                                    | 2006                                        | 2694                                        |\n",
       "| ESP                                         | CDI3*                                       | GP FS - Grand Prix Freestyle to Music       | 103LZ60                                     | 20/04/2007                                  | 1                                           | 10022363                                    | WD                                          | 67.36823                                    | 2007                                        | 2815                                        |\n",
       "| USA                                         | CDIU25                                      | FEI Grand Prix Freestyle 16-25 CDIU25       | 104FE38                                     | 22/04/2006                                  | 1                                           | 10003267                                    | WD                                          | 73.96087                                    | 2006                                        | 2877                                        |\n",
       "| ... | ... | ... | ... | ... | ... | ... | ... | ... | ... | ... |\n",
       "| USA                                         | CDIU25                                      | FEI Grand Prix Freestyle 16-25 CDIU25       | USA41197                                    | 01/01/1999                                  | 1                                           | 10046212                                    | WD                                          | 67.18344                                    | 1999                                        | 16410                                       |\n",
       "| USA                                         | CDI3*                                       | GPS - Grand Prix Special                    | USA41197                                    | 01/01/1999                                  | 1                                           | 10025334                                    | WD                                          | 61.01055                                    | 1999                                        | 16426                                       |\n",
       "| USA                                         | CDI3*                                       | GP - Grand Prix                             | USA41197                                    | 01/01/1999                                  | 1                                           | 10025334                                    | WD                                          | 72.63903                                    | 1999                                        | 16427                                       |\n",
       "| USA                                         | CDI3*                                       | GP FS - Grand Prix Freestyle to Music       | USA41197                                    | 01/01/1999                                  | 1                                           | 10025334                                    | WD                                          | 65.92370                                    | 1999                                        | 16440                                       |\n",
       "| USA                                         | CDI3*                                       | GP - Grand Prix                             | USA41197                                    | 01/01/1999                                  | 1                                           | 10025334                                    | WD                                          | 68.66110                                    | 1999                                        | 16441                                       |\n",
       "| USA                                         | CDI3*                                       | FEI Grand Prix Special CDI3*                | 102QS73                                     | 21/05/2004                                  | 1                                           | 10000051                                    | RET                                         | 70.45535                                    | 2004                                        | 16579                                       |\n",
       "| USA                                         | CDI-W                                       | FEI Grand Prix Special CDIW                 | 102QS73                                     | 21/05/2004                                  | 1                                           | 10000051                                    | WD                                          | 67.26752                                    | 2004                                        | 16581                                       |\n",
       "| FIN                                         | CDI3*                                       | Grand Prix                                  | 105OL40                                     | 11/05/2008                                  | 1                                           | 10003234                                    | RET                                         | 61.42372                                    | 2008                                        | 16696                                       |\n",
       "| DEN                                         | CDI3*                                       | Int I FS - Intermediate I                   | 104ZN16                                     | 15/05/2007                                  | 1                                           | 10039672                                    | WD                                          | 69.85938                                    | 2007                                        | 16782                                       |\n",
       "| GBR                                         | CDI3*                                       | GPS - Grand Prix Special                    | 104BG28                                     | 20/02/2008                                  | 1                                           | 10083180                                    | RET                                         | 70.55404                                    | 2008                                        | 16895                                       |\n",
       "| NED                                         | CDI3*                                       | GP - Grand Prix                             | 103XJ10                                     | 01/05/2005                                  | 0                                           | 10003202                                    | RET                                         | 68.69603                                    | 2005                                        | 16996                                       |\n",
       "| FRA                                         | CDI3*                                       | GPS - Grand Prix Special                    | 103XJ10                                     | 01/05/2005                                  | 0                                           | 10003202                                    | WD                                          | 66.34982                                    | 2005                                        | 17015                                       |\n",
       "| HUN                                         | CDI3*                                       | Grand Prix Special                          | 105EO96                                     | 04/05/2005                                  | 1                                           | 10023549                                    | RET                                         | 67.09229                                    | 2005                                        | 17035                                       |\n",
       "| GER                                         | CDI2*                                       | Intermediate A                              | 105EO96                                     | 04/05/2005                                  | 1                                           | 10023549                                    | RET                                         | 66.05573                                    | 2005                                        | 17038                                       |\n",
       "| USA                                         | CDI3*                                       | GP - Grand Prix                             | USA42245                                    | 21/03/2000                                  | 0                                           | 10003277                                    | RET                                         | 65.55976                                    | 2000                                        | 17135                                       |\n",
       "| USA                                         | CDI-W                                       | FEI Grand Prix                              | USA42245                                    | 21/03/2000                                  | 0                                           | 10003277                                    | RET                                         | 64.34508                                    | 2000                                        | 17158                                       |\n",
       "| GER                                         | CDI4*                                       | GP - Grand Prix                             | 104ZW45                                     | 04/03/2009                                  | 1                                           | 10003128                                    | RET                                         | 70.49981                                    | 2009                                        | 17189                                       |\n",
       "| GER                                         | CDI3*                                       | GPS - Grand Prix Special                    | 104ZW45                                     | 04/03/2009                                  | 1                                           | 10003128                                    | RET                                         | 67.93449                                    | 2009                                        | 17192                                       |\n",
       "| NED                                         | CDI4*                                       | GPS - Grand Prix Special                    | 104KM68                                     | 27/01/2005                                  | 1                                           | 10058623                                    | RET                                         | 66.66741                                    | 2005                                        | 17208                                       |\n",
       "| FRA                                         | CDI3*                                       | Int I FS - Intermediate I Freestyle to M... | 104KM68                                     | 27/01/2005                                  | 1                                           | 10058623                                    | WD                                          | 62.69043                                    | 2005                                        | 17225                                       |\n",
       "| SWE                                         | CDI-W                                       | GP FS - Grand Prix Freestyle to Music       | 102YN67                                     | 26/04/2001                                  | 1                                           | 10010680                                    | RET                                         | 69.57410                                    | 2001                                        | 17303                                       |\n",
       "| ESP                                         | CDI3*                                       | GP FS - Grand Prix Freestyle to Music       | 102ZG28                                     | 25/03/2000                                  | 0                                           | 10027033                                    | WD                                          | 68.12610                                    | 2000                                        | 17449                                       |\n",
       "| ESP                                         | CDI3*                                       | GP Cons - Grand Prix Consolation            | 102ZG28                                     | 25/03/2000                                  | 0                                           | 10027033                                    | WD                                          | 70.61808                                    | 2000                                        | 17450                                       |\n",
       "| FRA                                         | CDI3*                                       | GP Cons - Grand Prix Consolation            | 102ZG28                                     | 25/03/2000                                  | 0                                           | 10003377                                    | WD                                          | 68.29010                                    | 2000                                        | 17486                                       |\n",
       "| USA                                         | CDI3*                                       | GP - Grand Prix                             | NED41117                                    | 02/05/1999                                  | 1                                           | 10070065                                    | WD                                          | 65.75675                                    | 1999                                        | 17526                                       |\n",
       "| FRA                                         | CDI3*                                       | GP FS - Grand Prix Freestyle to Music       | 102VN90                                     | 20/07/2003                                  | 1                                           | 10037234                                    | WD                                          | 66.82981                                    | 2003                                        | 17769                                       |\n",
       "| USA                                         | CDIAm                                       | Int II - Intermediate II                    | 103WD75                                     | 21/03/2008                                  | 1                                           | 10162483                                    | WD                                          | 71.17282                                    | 2008                                        | 17803                                       |\n",
       "| HUN                                         | CDI3*                                       | GP - Grand Prix                             | 104TC92                                     | 18/04/2006                                  | 0                                           | 10028962                                    | RET                                         | 79.35271                                    | 2006                                        | 17884                                       |\n",
       "| BEL                                         | CDI3*                                       | GP - Grand Prix                             | 104TC92                                     | 18/04/2006                                  | 0                                           | 10028962                                    | RET                                         | 66.67843                                    | 2006                                        | 17886                                       |\n",
       "| FRA                                         | CDI3*                                       | Int I FS - Intermediate I Freestyle to M... | 104AL35                                     | 05/06/2006                                  | 1                                           | 10080271                                    | WD                                          | 73.82446                                    | 2006                                        | 17931                                       |\n",
       "\n"
      ],
      "text/plain": [
       "    location event_type  comp_title                                  horse_id\n",
       "1   GER      CDI4*       GPS - Grand Prix Special                    103HX90 \n",
       "2   NED      CDI-W       GP FS - Grand Prix Freestyle to Music       GER45558\n",
       "3   FRA      CDI3*       Grand Prix Special                          104HK07 \n",
       "4   NED      CDIO5*-NC   Grand Prix                                  104HK07 \n",
       "5   NED      CDIY        Y Ind - Young Riders Individual Competit... 105FU85 \n",
       "6   ESP      CDI4*       GPS - Grand Prix Special                    103DW31 \n",
       "7   ESP      CDI3*       GP - Grand Prix                             103DW31 \n",
       "8   NED      CDI3*       GP - Grand Prix                             103VM89 \n",
       "9   NED      CDI3*       GP - Grand Prix                             103VM89 \n",
       "10  NED      CDI3*       GP - Grand Prix                             103VM89 \n",
       "11  NED      CDI3*       GP - Grand Prix                             103VM89 \n",
       "12  NED      CDI4*       GPS - Grand Prix Special                    103VM89 \n",
       "13  GER      CDI4*       GP - Grand Prix                             103VQ51 \n",
       "14  GER      CDI4*       GP - Grand Prix                             103RQ42 \n",
       "15  FRA      CDI3*       GP - Grand Prix                             103RO36 \n",
       "16  GER      CDI3*       GPS - Grand Prix Special                    103DG55 \n",
       "17  GER      CDI1*       Int I - Intermediate I                      105JU17 \n",
       "18  ESP      CDI-W       GP FS - Grand Prix Freestyle to Music       104QJ85 \n",
       "19  GBR      CDI3*       GP FS - Grand Prix Freestyle to Music       104QJ85 \n",
       "20  GBR      CDIO3*-NC   GP FS - Grand Prix Freestyle to Music       102YA19 \n",
       "21  GER      CDI4*       GP - Grand Prix                             103GI17 \n",
       "22  DEN      CDI-W       REEM ACRA FEI WORLD CUP \\231 DRESSAGE          NED40937\n",
       "23  FRA      CDI3*       GPS - Grand Prix Special                    106IY53 \n",
       "24  USA      CDIO3*-NC   GPS - Grand Prix Special                    104RQ40 \n",
       "25  USA      CDI3*       GPS - Grand Prix Special                    104RQ40 \n",
       "26  GER      CDIO5*-NC   GPS - Grand Prix Special                    103IA62 \n",
       "27  FRA      CDI3*       GP FS - Grand Prix Freestyle to Music       104CZ13 \n",
       "28  ITA      CH-EU-U25-D GP FS - Grand Prix Freestyle to Music       103IB40 \n",
       "29  ESP      CDI3*       GP FS - Grand Prix Freestyle to Music       103LZ60 \n",
       "30  USA      CDIU25      FEI Grand Prix Freestyle 16-25 CDIU25       104FE38 \n",
       "... ...      ...         ...                                         ...     \n",
       "243 USA      CDIU25      FEI Grand Prix Freestyle 16-25 CDIU25       USA41197\n",
       "244 USA      CDI3*       GPS - Grand Prix Special                    USA41197\n",
       "245 USA      CDI3*       GP - Grand Prix                             USA41197\n",
       "246 USA      CDI3*       GP FS - Grand Prix Freestyle to Music       USA41197\n",
       "247 USA      CDI3*       GP - Grand Prix                             USA41197\n",
       "248 USA      CDI3*       FEI Grand Prix Special CDI3*                102QS73 \n",
       "249 USA      CDI-W       FEI Grand Prix Special CDIW                 102QS73 \n",
       "250 FIN      CDI3*       Grand Prix                                  105OL40 \n",
       "251 DEN      CDI3*       Int I FS - Intermediate I                   104ZN16 \n",
       "252 GBR      CDI3*       GPS - Grand Prix Special                    104BG28 \n",
       "253 NED      CDI3*       GP - Grand Prix                             103XJ10 \n",
       "254 FRA      CDI3*       GPS - Grand Prix Special                    103XJ10 \n",
       "255 HUN      CDI3*       Grand Prix Special                          105EO96 \n",
       "256 GER      CDI2*       Intermediate A                              105EO96 \n",
       "257 USA      CDI3*       GP - Grand Prix                             USA42245\n",
       "258 USA      CDI-W       FEI Grand Prix                              USA42245\n",
       "259 GER      CDI4*       GP - Grand Prix                             104ZW45 \n",
       "260 GER      CDI3*       GPS - Grand Prix Special                    104ZW45 \n",
       "261 NED      CDI4*       GPS - Grand Prix Special                    104KM68 \n",
       "262 FRA      CDI3*       Int I FS - Intermediate I Freestyle to M... 104KM68 \n",
       "263 SWE      CDI-W       GP FS - Grand Prix Freestyle to Music       102YN67 \n",
       "264 ESP      CDI3*       GP FS - Grand Prix Freestyle to Music       102ZG28 \n",
       "265 ESP      CDI3*       GP Cons - Grand Prix Consolation            102ZG28 \n",
       "266 FRA      CDI3*       GP Cons - Grand Prix Consolation            102ZG28 \n",
       "267 USA      CDI3*       GP - Grand Prix                             NED41117\n",
       "268 FRA      CDI3*       GP FS - Grand Prix Freestyle to Music       102VN90 \n",
       "269 USA      CDIAm       Int II - Intermediate II                    103WD75 \n",
       "270 HUN      CDI3*       GP - Grand Prix                             104TC92 \n",
       "271 BEL      CDI3*       GP - Grand Prix                             104TC92 \n",
       "272 FRA      CDI3*       Int I FS - Intermediate I Freestyle to M... 104AL35 \n",
       "    dob        sex rider_id position score    yob  show_id\n",
       "1   14/02/2006 1   10023552 WD       71.18227 2006   98   \n",
       "2   21/04/2002 1   10012844 RET      74.15765 2002  294   \n",
       "3   15/05/2006 0   10029550 RET      66.78297 2006 1071   \n",
       "4   15/05/2006 0   10029550 WD       71.11050 2006 1073   \n",
       "5   17/05/2008 1   10066419 RET      71.34623 2008 1242   \n",
       "6   01/01/2005 1   10040382 WD       73.18840 2005 1362   \n",
       "7   01/01/2005 1   10040382 WD       68.51519 2005 1368   \n",
       "8   03/04/2004 1   10034410 RET      75.89667 2004 1418   \n",
       "9   03/04/2004 1   10034410 RET      69.01703 2004 1433   \n",
       "10  03/04/2004 1   10034410 RET      64.79355 2004 1437   \n",
       "11  03/04/2004 1   10034410 RET      70.10154 2004 1464   \n",
       "12  03/04/2004 1   10034410 RET      67.14728 2004 1465   \n",
       "13  18/04/2007 1   10019463 WD       68.96170 2007 1497   \n",
       "14  01/05/2007 1   10103936 RET      70.09767 2007 1528   \n",
       "15  21/06/2006 1   10028962 RET      64.54968 2006 1584   \n",
       "16  05/04/2006 1   10073033 RET      68.17910 2006 1785   \n",
       "17  01/06/2009 1   10091877 RET      71.24763 2009 1882   \n",
       "18  12/06/2006 1   10011348 RET      71.48680 2006 1949   \n",
       "19  12/06/2006 1   10011348 RET      74.13898 2006 1953   \n",
       "20  26/02/1999 1   10034877 WD       70.12200 1999 2187   \n",
       "21  29/12/1999 1   10000517 RET      68.50803 1999 2194   \n",
       "22  20/04/2002 1   10011472 WD       69.67681 2002 2244   \n",
       "23  07/05/2009 1   10016382 WD       61.41414 2009 2413   \n",
       "24  20/04/2004 1   10101183 WD       66.27863 2004 2527   \n",
       "25  20/04/2004 1   10101183 WD       71.71446 2004 2531   \n",
       "26  23/03/2005 1   10003276 WD       69.65276 2005 2623   \n",
       "27  03/05/2003 1   10074623 RET      67.36798 2003 2654   \n",
       "28  24/04/2006 1   10035555 RET      72.18049 2006 2694   \n",
       "29  20/04/2007 1   10022363 WD       67.36823 2007 2815   \n",
       "30  22/04/2006 1   10003267 WD       73.96087 2006 2877   \n",
       "... ...        ... ...      ...      ...      ...  ...    \n",
       "243 01/01/1999 1   10046212 WD       67.18344 1999 16410  \n",
       "244 01/01/1999 1   10025334 WD       61.01055 1999 16426  \n",
       "245 01/01/1999 1   10025334 WD       72.63903 1999 16427  \n",
       "246 01/01/1999 1   10025334 WD       65.92370 1999 16440  \n",
       "247 01/01/1999 1   10025334 WD       68.66110 1999 16441  \n",
       "248 21/05/2004 1   10000051 RET      70.45535 2004 16579  \n",
       "249 21/05/2004 1   10000051 WD       67.26752 2004 16581  \n",
       "250 11/05/2008 1   10003234 RET      61.42372 2008 16696  \n",
       "251 15/05/2007 1   10039672 WD       69.85938 2007 16782  \n",
       "252 20/02/2008 1   10083180 RET      70.55404 2008 16895  \n",
       "253 01/05/2005 0   10003202 RET      68.69603 2005 16996  \n",
       "254 01/05/2005 0   10003202 WD       66.34982 2005 17015  \n",
       "255 04/05/2005 1   10023549 RET      67.09229 2005 17035  \n",
       "256 04/05/2005 1   10023549 RET      66.05573 2005 17038  \n",
       "257 21/03/2000 0   10003277 RET      65.55976 2000 17135  \n",
       "258 21/03/2000 0   10003277 RET      64.34508 2000 17158  \n",
       "259 04/03/2009 1   10003128 RET      70.49981 2009 17189  \n",
       "260 04/03/2009 1   10003128 RET      67.93449 2009 17192  \n",
       "261 27/01/2005 1   10058623 RET      66.66741 2005 17208  \n",
       "262 27/01/2005 1   10058623 WD       62.69043 2005 17225  \n",
       "263 26/04/2001 1   10010680 RET      69.57410 2001 17303  \n",
       "264 25/03/2000 0   10027033 WD       68.12610 2000 17449  \n",
       "265 25/03/2000 0   10027033 WD       70.61808 2000 17450  \n",
       "266 25/03/2000 0   10003377 WD       68.29010 2000 17486  \n",
       "267 02/05/1999 1   10070065 WD       65.75675 1999 17526  \n",
       "268 20/07/2003 1   10037234 WD       66.82981 2003 17769  \n",
       "269 21/03/2008 1   10162483 WD       71.17282 2008 17803  \n",
       "270 18/04/2006 0   10028962 RET      79.35271 2006 17884  \n",
       "271 18/04/2006 0   10028962 RET      66.67843 2006 17886  \n",
       "272 05/06/2006 1   10080271 WD       73.82446 2006 17931  "
      ]
     },
     "metadata": {},
     "output_type": "display_data"
    },
    {
     "data": {
      "image/png": "[encoded data removed]",
      "text/plain": [
       "plot without title"
      ]
     },
     "metadata": {},
     "output_type": "display_data"
    }
   ],
   "source": [
    "wd_ret_mean <- mean(shows$score, na.rm = T) - 1\n",
    "wd_ret_sd <- sd(shows$score, na.rm = T)/1.5\n",
    "\n",
    "wd_ret_points <- seq(-4, 4, length = 100) * wd_ret_sd + wd_ret_mean\n",
    "wd_ret_dist <- dnorm(wd_ret_points, wd_ret_mean, wd_ret_sd)\n",
    "\n",
    "ggplot() +\n",
    "  geom_point(aes(x = wd_ret_points, y = wd_ret_dist), color = \"green\") + \n",
    "  geom_freqpoly(data = shows, aes(x = score), stat = \"density\") + \n",
    "  xlab(\"Score\") +\n",
    "  ylab(\"Probability or Frequency\")\n",
    "\n",
    "wt_ret_imputed <- rnorm(nrow(shows[shows$position %in% c('WD', 'RET'),]), wd_ret_mean, wd_ret_sd)\n",
    "\n",
    "shows[shows$position %in% c(\"WD\", \"RET\"),]$score <- wt_ret_imputed\n",
    "\n",
    "shows %>% \n",
    "  filter(position %in% c(\"WD\", \"RET\"))"
   ]
  },
  {
   "cell_type": "markdown",
   "metadata": {},
   "source": [
    "On the other hand, I want to penalise individuals who are eliminated (EL) or disqualified (DSQ). Thus, I impute values from a normal distribution (66.56, 4.904709). The mean of this distribution is the 25th percentile of the data. Thus, I am penalising combinations for having been eliminated or disqualified. "
   ]
  },
  {
   "cell_type": "code",
   "execution_count": 168,
   "metadata": {},
   "outputs": [
    {
     "data": {
      "text/html": [
       "<strong>25%:</strong> 66.8"
      ],
      "text/latex": [
       "\\textbf{25\\textbackslash{}\\%:} 66.8"
      ],
      "text/markdown": [
       "**25%:** 66.8"
      ],
      "text/plain": [
       " 25% \n",
       "66.8 "
      ]
     },
     "metadata": {},
     "output_type": "display_data"
    },
    {
     "name": "stderr",
     "output_type": "stream",
     "text": [
      "Warning message:\n",
      "\"Removed 101 rows containing non-finite values (stat_density).\""
     ]
    },
    {
     "data": {
      "text/html": [
       "0"
      ],
      "text/latex": [
       "0"
      ],
      "text/markdown": [
       "0"
      ],
      "text/plain": [
       "[1] 0"
      ]
     },
     "metadata": {},
     "output_type": "display_data"
    },
    {
     "data": {
      "image/png": "[encoded data removed]",
      "text/plain": [
       "plot without title"
      ]
     },
     "metadata": {},
     "output_type": "display_data"
    }
   ],
   "source": [
    "quantile(shows$score, probs = 0.25, na.rm = T)\n",
    "el_dsq_mean <- 66.565\n",
    "el_dsq_sd <- sd(shows$score, na.rm = T)/1.5\n",
    "\n",
    "el_dsq_points <- seq(-4, 4, length = 100) * el_dsq_sd + el_dsq_mean\n",
    "el_dsq_dist <- dnorm(el_dsq_points, el_dsq_mean, el_dsq_sd)\n",
    "\n",
    "ggplot() +\n",
    "  geom_point(aes(x = el_dsq_points, y = el_dsq_dist), color = \"green\") + \n",
    "  geom_freqpoly(data = shows, aes(x = score), stat = \"density\") + \n",
    "  xlab(\"Score\") +\n",
    "  ylab(\"Probability or Frequency\")\n",
    "\n",
    "el_dsq_imputed <- rnorm(nrow(shows[shows$position %in% c(\"DSQ\", \"EL\"),]), el_dsq_mean, el_dsq_sd)\n",
    "\n",
    "sum(is.na(shows$position))"
   ]
  },
  {
   "cell_type": "code",
   "execution_count": 169,
   "metadata": {},
   "outputs": [
    {
     "ename": "ERROR",
     "evalue": "Error: Table clean_shows exists in database, and both overwrite and append are FALSE\n",
     "output_type": "error",
     "traceback": [
      "Error: Table clean_shows exists in database, and both overwrite and append are FALSE\nTraceback:\n",
      "1. dbWriteTable(conn, \"clean_shows\", shows, overwrite = F)",
      "2. dbWriteTable(conn, \"clean_shows\", shows, overwrite = F)",
      "3. .local(conn, name, value, ...)",
      "4. stop(\"Table \", name, \" exists in database, and both overwrite and\", \n .     \" append are FALSE\", call. = FALSE)"
     ]
    }
   ],
   "source": [
    "dbWriteTable(conn, \"clean_pedigree\", ped, overwrite = T)\n",
    "dbWriteTable(conn, \"clean_shows\", shows, overwrite = F)\n",
    "\n",
    "dbDisconnect(conn)"
   ]
  },
  {
   "cell_type": "markdown",
   "metadata": {},
   "source": [
    "## Reflection"
   ]
  },
  {
   "cell_type": "markdown",
   "metadata": {},
   "source": [
    "I gained a lot of skills from this project. This was my **first time using web scraping** to generate my own data. In hindsight, there are several things I would have done differently. I would have spent more time assessing the quality of the data generated before deploying the spider to collect the whole dataset. I also would have acquired more data - for example, dates and times for each individual show. I believe that this would have allowed me to do some modelling down the line, that the current data were not really suitable for. \n",
    "\n",
    "This is also increased my experience in data cleaning, particularly in dealing with a strange ID system!"
   ]
  },
  {
   "cell_type": "code",
   "execution_count": null,
   "metadata": {},
   "outputs": [],
   "source": []
  }
 ],
 "metadata": {
  "kernelspec": {
   "display_name": "R",
   "language": "R",
   "name": "ir"
  },
  "language_info": {
   "codemirror_mode": "r",
   "file_extension": ".r",
   "mimetype": "text/x-r-source",
   "name": "R",
   "pygments_lexer": "r",
   "version": "3.6.1"
  }
 },
 "nbformat": 4,
 "nbformat_minor": 4
}
